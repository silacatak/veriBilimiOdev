{
 "cells": [
  {
   "cell_type": "code",
   "execution_count": null,
   "id": "99cac1e1-ae15-430f-bf18-418df7588d8b",
   "metadata": {},
   "outputs": [],
   "source": [
    "Ödev-1: Değişkenlere atanmış değerlerin veri tipleri arasında dönüşüm yapılır."
   ]
  },
  {
   "cell_type": "code",
   "execution_count": 5,
   "id": "9e321e4a-28d5-45c4-a8f3-eb5c0475cc19",
   "metadata": {},
   "outputs": [],
   "source": [
    "x = 5\n",
    "y = 10.5\n",
    "z = 2**3"
   ]
  },
  {
   "cell_type": "code",
   "execution_count": 4,
   "id": "8c330f15-e6f0-4d1c-95bd-52b827c6c604",
   "metadata": {},
   "outputs": [
    {
     "data": {
      "text/plain": [
       "int"
      ]
     },
     "execution_count": 4,
     "metadata": {},
     "output_type": "execute_result"
    }
   ],
   "source": [
    "type(x)"
   ]
  },
  {
   "cell_type": "code",
   "execution_count": 6,
   "id": "0249c563-11d4-4fb3-8faa-9c71dc963ebd",
   "metadata": {},
   "outputs": [],
   "source": [
    "x = float(x)"
   ]
  },
  {
   "cell_type": "code",
   "execution_count": 7,
   "id": "f9dcd9ff-e6bb-49bd-b6d2-7db8906d39e6",
   "metadata": {},
   "outputs": [
    {
     "data": {
      "text/plain": [
       "float"
      ]
     },
     "execution_count": 7,
     "metadata": {},
     "output_type": "execute_result"
    }
   ],
   "source": [
    "type(x)"
   ]
  },
  {
   "cell_type": "code",
   "execution_count": 11,
   "id": "bfd0ddf5-0876-436b-8b6e-9dcaef753017",
   "metadata": {},
   "outputs": [
    {
     "data": {
      "text/plain": [
       "float"
      ]
     },
     "execution_count": 11,
     "metadata": {},
     "output_type": "execute_result"
    }
   ],
   "source": [
    "type(y)"
   ]
  },
  {
   "cell_type": "code",
   "execution_count": 12,
   "id": "80f05991-78c7-4cd5-8a66-28eb1ee15882",
   "metadata": {},
   "outputs": [],
   "source": [
    "y = int(y)"
   ]
  },
  {
   "cell_type": "code",
   "execution_count": 13,
   "id": "4a1b6a17-b2af-4820-a315-d2d21982dc68",
   "metadata": {},
   "outputs": [
    {
     "data": {
      "text/plain": [
       "int"
      ]
     },
     "execution_count": 13,
     "metadata": {},
     "output_type": "execute_result"
    }
   ],
   "source": [
    "type(y)"
   ]
  },
  {
   "cell_type": "code",
   "execution_count": 14,
   "id": "83992fa3-11b7-4482-9c0d-eaaa651e7baa",
   "metadata": {},
   "outputs": [
    {
     "data": {
      "text/plain": [
       "8"
      ]
     },
     "execution_count": 14,
     "metadata": {},
     "output_type": "execute_result"
    }
   ],
   "source": [
    "z"
   ]
  },
  {
   "cell_type": "code",
   "execution_count": 16,
   "id": "93c15340-9def-4484-b601-c2b282200389",
   "metadata": {},
   "outputs": [],
   "source": [
    "z = float(z)"
   ]
  },
  {
   "cell_type": "code",
   "execution_count": null,
   "id": "f54834a2-3866-4752-adce-7f05d87b38c7",
   "metadata": {},
   "outputs": [],
   "source": [
    "type(z)"
   ]
  },
  {
   "cell_type": "markdown",
   "id": "48b39f9e-8dd0-486b-a4f3-c47a48b4ca26",
   "metadata": {},
   "source": [
    "Ödev-2: İsimlerden oluşan üç değişkene yaş değerleri atanır. Belirlenen üç değişken birbiriyle karşılaştırma operatörleri ile karşılaştırılır. Bu karşılaştırmalara mantıksal operatörler de eklenir."
   ]
  },
  {
   "cell_type": "code",
   "execution_count": 2,
   "id": "78bdd25a-3acf-4055-8291-4cf390eaa6d4",
   "metadata": {},
   "outputs": [],
   "source": [
    "sılaAge = 21\n",
    "bayramAge = 19\n",
    "zeynepAge = 17\n"
   ]
  },
  {
   "cell_type": "code",
   "execution_count": 3,
   "id": "da573b57-2ec8-4c47-8a6c-977ef74acdee",
   "metadata": {},
   "outputs": [
    {
     "data": {
      "text/plain": [
       "False"
      ]
     },
     "execution_count": 3,
     "metadata": {},
     "output_type": "execute_result"
    }
   ],
   "source": [
    "sılaAge == bayramAge"
   ]
  },
  {
   "cell_type": "markdown",
   "id": "793caabe-95c8-48bc-8025-908c58b1b487",
   "metadata": {},
   "source": [
    "sılaAge == zeynepAge\n"
   ]
  },
  {
   "cell_type": "code",
   "execution_count": 5,
   "id": "7d24ef90-e766-46a2-b75a-505d2fa36a66",
   "metadata": {},
   "outputs": [
    {
     "data": {
      "text/plain": [
       "True"
      ]
     },
     "execution_count": 5,
     "metadata": {},
     "output_type": "execute_result"
    }
   ],
   "source": [
    "bayramAge > zeynepAge"
   ]
  },
  {
   "cell_type": "code",
   "execution_count": 6,
   "id": "d91e3406-3f95-4bee-9a2c-ed6530ed09a7",
   "metadata": {},
   "outputs": [
    {
     "data": {
      "text/plain": [
       "True"
      ]
     },
     "execution_count": 6,
     "metadata": {},
     "output_type": "execute_result"
    }
   ],
   "source": [
    "bayramAge != sılaAge"
   ]
  },
  {
   "cell_type": "code",
   "execution_count": 7,
   "id": "8f3a1b6f-5c79-4265-b92a-441a2b5047a5",
   "metadata": {},
   "outputs": [
    {
     "data": {
      "text/plain": [
       "False"
      ]
     },
     "execution_count": 7,
     "metadata": {},
     "output_type": "execute_result"
    }
   ],
   "source": [
    "sılaAge <= zeynepAge "
   ]
  },
  {
   "cell_type": "code",
   "execution_count": 8,
   "id": "58bdf5ac-f28d-4f46-83c5-af1ab73c3961",
   "metadata": {},
   "outputs": [
    {
     "data": {
      "text/plain": [
       "True"
      ]
     },
     "execution_count": 8,
     "metadata": {},
     "output_type": "execute_result"
    }
   ],
   "source": [
    "sılaAge >= bayramAge and bayramAge >= zeynepAge # and tek bir 0 false döndürür"
   ]
  },
  {
   "cell_type": "code",
   "execution_count": 9,
   "id": "fa5a4a92-fa2a-42f8-8ca5-1377eb077c99",
   "metadata": {},
   "outputs": [
    {
     "data": {
      "text/plain": [
       "True"
      ]
     },
     "execution_count": 9,
     "metadata": {},
     "output_type": "execute_result"
    }
   ],
   "source": [
    "not(sılaAge <= zeynepAge )"
   ]
  },
  {
   "cell_type": "code",
   "execution_count": 11,
   "id": "d8a82a71-3db3-4656-a7e7-e4d800c019aa",
   "metadata": {},
   "outputs": [
    {
     "data": {
      "text/plain": [
       "True"
      ]
     },
     "execution_count": 11,
     "metadata": {},
     "output_type": "execute_result"
    }
   ],
   "source": [
    "sılaAge <= zeynepAge  or bayramAge >= zeynepAge  # or tek bir 1 olması true döndürür"
   ]
  },
  {
   "cell_type": "markdown",
   "id": "9905f3ee-1f40-4aae-a025-7add74c10de1",
   "metadata": {},
   "source": [
    "Ödev-3: Kullanıcıdan iki değer girmesini istenir. Girilen değerlerin toplama, çıkarma, çarpma, bölme sonuçlarını yazdırılır."
   ]
  },
  {
   "cell_type": "code",
   "execution_count": 13,
   "id": "cc8c1985-ef05-4351-9b65-faa1aba89319",
   "metadata": {},
   "outputs": [
    {
     "name": "stdin",
     "output_type": "stream",
     "text": [
      "Enter first number : 10\n",
      "Enter second number : 2\n"
     ]
    }
   ],
   "source": [
    "number1 = int(input(\"Enter first number :\"))\n",
    "number2 = int(input(\"Enter second number :\"))\n",
    "\n",
    "addition = number1 + number2 \n",
    "subtraction = number1 - number2\n",
    "multiplacation =number1 * number2\n",
    "division = number1 / number2"
   ]
  },
  {
   "cell_type": "code",
   "execution_count": 15,
   "id": "1fb682b8-d8b6-4623-8a81-f242593f5456",
   "metadata": {},
   "outputs": [
    {
     "data": {
      "text/plain": [
       "12"
      ]
     },
     "execution_count": 15,
     "metadata": {},
     "output_type": "execute_result"
    }
   ],
   "source": [
    "addition"
   ]
  },
  {
   "cell_type": "code",
   "execution_count": 16,
   "id": "e13b525a-fb7f-4d3a-8e99-320fbbdd82e7",
   "metadata": {},
   "outputs": [
    {
     "data": {
      "text/plain": [
       "5.0"
      ]
     },
     "execution_count": 16,
     "metadata": {},
     "output_type": "execute_result"
    }
   ],
   "source": [
    "division"
   ]
  },
  {
   "cell_type": "code",
   "execution_count": 17,
   "id": "709c9db3-3c07-4791-b5ab-a3bd0331b1e3",
   "metadata": {},
   "outputs": [
    {
     "data": {
      "text/plain": [
       "8"
      ]
     },
     "execution_count": 17,
     "metadata": {},
     "output_type": "execute_result"
    }
   ],
   "source": [
    "subtraction"
   ]
  },
  {
   "cell_type": "code",
   "execution_count": 18,
   "id": "b878cf82-ce72-4e2e-8791-657720c90a62",
   "metadata": {},
   "outputs": [
    {
     "data": {
      "text/plain": [
       "20"
      ]
     },
     "execution_count": 18,
     "metadata": {},
     "output_type": "execute_result"
    }
   ],
   "source": [
    "multiplacation"
   ]
  },
  {
   "cell_type": "markdown",
   "id": "5df2fc84-6045-4c79-a2dd-db0d8792eab2",
   "metadata": {},
   "source": [
    "Ödev-4: Kullanıcıdan isim, yaş, şehir ve meslek bilgilerini istenir ve cevaplarını yazdırılır."
   ]
  },
  {
   "cell_type": "code",
   "execution_count": 36,
   "id": "cff25f8e-138b-4b8c-b895-d01179e0cf48",
   "metadata": {},
   "outputs": [
    {
     "name": "stdin",
     "output_type": "stream",
     "text": [
      "Enter your name: Sıla\n",
      "Enter your lastname :  çatak\n",
      "Which city do you live in: İstanbul\n",
      "what is you job Computer Programming\n"
     ]
    },
    {
     "name": "stdout",
     "output_type": "stream",
     "text": [
      "Name : Sıla  LastName:  çatak  city: İstanbul  occupation: Computer Programming\n"
     ]
    }
   ],
   "source": [
    "name = input(\"Enter your name:\")\n",
    "lastName = input(\"Enter your lastname : \")\n",
    "city = input(\"Which city do you live in:\")\n",
    "occupation = input(\"what is you job\")\n",
    "\n",
    "print(\"Name :\" ,name, \" LastName: \",lastName, \" city:\" ,city, \" occupation:\" ,occupation)"
   ]
  },
  {
   "cell_type": "code",
   "execution_count": null,
   "id": "1fd88efb-901d-4801-b532-b97658eb48f9",
   "metadata": {},
   "outputs": [],
   "source": []
  },
  {
   "cell_type": "markdown",
   "id": "875e27f2-3146-44d0-8dc4-964441a89b71",
   "metadata": {},
   "source": [
    "Ödev-5: \"Hi-Kod Veri Bilimi Atölyesi\" ifadesini bir değişkene tanımlanır.\r\n",
    "\r\n",
    "\r\n",
    " İfadedeki her bir kelimeyi (\"Hi-Kod\", \"Veri\", \"Bilimi\", \"Atölyesi\") değişken içinden seçilir. \r\n",
    " İfadeyi hepsini büyük harf olacak hale çevrilir. (\"HI-KOD VERİ BİLİMİ ATÖLYESİ\") \r\n",
    " İfadeyi hepküçükbüyük harf olacak hale çevrilir.(\"hi-kod veri bilimi atölyesi\") \r\n",
    "\r\n",
    "\"0123456789\" ifadesindeki yalnızca çift sayıları ve yalnızca tek sayıları seçilir. (\"02468\", \"13579\")"
   ]
  },
  {
   "cell_type": "code",
   "execution_count": 37,
   "id": "64025878-f0b7-47c6-81f8-06f79f7ea4a7",
   "metadata": {},
   "outputs": [],
   "source": [
    "atolye =  \"Hi-Kod Veri Bilimi Atölyesi\" "
   ]
  },
  {
   "cell_type": "code",
   "execution_count": 38,
   "id": "c75aaabb-c3c9-48f5-84ea-529cd99033f8",
   "metadata": {},
   "outputs": [
    {
     "data": {
      "text/plain": [
       "'Hi-Kod'"
      ]
     },
     "execution_count": 38,
     "metadata": {},
     "output_type": "execute_result"
    }
   ],
   "source": [
    "atolye[0:6]"
   ]
  },
  {
   "cell_type": "code",
   "execution_count": 40,
   "id": "fa7c1ef5-ef00-4fcf-8ec5-d62804245f13",
   "metadata": {},
   "outputs": [
    {
     "data": {
      "text/plain": [
       "'Veri'"
      ]
     },
     "execution_count": 40,
     "metadata": {},
     "output_type": "execute_result"
    }
   ],
   "source": [
    "atolye[7:11]"
   ]
  },
  {
   "cell_type": "code",
   "execution_count": 42,
   "id": "fd485917-662f-4a57-90b8-7d18d8e2624e",
   "metadata": {},
   "outputs": [
    {
     "data": {
      "text/plain": [
       "'Bilimi'"
      ]
     },
     "execution_count": 42,
     "metadata": {},
     "output_type": "execute_result"
    }
   ],
   "source": [
    "atolye[12:18]"
   ]
  },
  {
   "cell_type": "code",
   "execution_count": 43,
   "id": "972cc159-d016-4b97-a78a-703d662466c5",
   "metadata": {},
   "outputs": [
    {
     "data": {
      "text/plain": [
       "'Atölyesi'"
      ]
     },
     "execution_count": 43,
     "metadata": {},
     "output_type": "execute_result"
    }
   ],
   "source": [
    "atolye[19:27]"
   ]
  },
  {
   "cell_type": "code",
   "execution_count": 44,
   "id": "2f65d642-14fa-49c7-a3a9-2d0638b2d915",
   "metadata": {},
   "outputs": [
    {
     "data": {
      "text/plain": [
       "'HI-KOD VERI BILIMI ATÖLYESI'"
      ]
     },
     "execution_count": 44,
     "metadata": {},
     "output_type": "execute_result"
    }
   ],
   "source": [
    "atolye.upper()"
   ]
  },
  {
   "cell_type": "code",
   "execution_count": 46,
   "id": "b283d123-c7fa-4b33-bb79-b9ccbc5f737f",
   "metadata": {},
   "outputs": [
    {
     "data": {
      "text/plain": [
       "'hi-kod veri bilimi atölyesi'"
      ]
     },
     "execution_count": 46,
     "metadata": {},
     "output_type": "execute_result"
    }
   ],
   "source": [
    "atolye.lower()"
   ]
  },
  {
   "cell_type": "code",
   "execution_count": 47,
   "id": "d9ff2581-1373-4e67-90ec-1a3d707ff385",
   "metadata": {},
   "outputs": [],
   "source": [
    "numbers = \"0123456789\""
   ]
  },
  {
   "cell_type": "code",
   "execution_count": 48,
   "id": "5c57f1bd-1930-4e3a-9b8c-9d20f7fecc5e",
   "metadata": {},
   "outputs": [
    {
     "data": {
      "text/plain": [
       "'02468'"
      ]
     },
     "execution_count": 48,
     "metadata": {},
     "output_type": "execute_result"
    }
   ],
   "source": [
    "numbers[::2]"
   ]
  },
  {
   "cell_type": "code",
   "execution_count": 51,
   "id": "d4bb0ade-4bd9-4dfa-88c5-173f095f84c4",
   "metadata": {},
   "outputs": [
    {
     "data": {
      "text/plain": [
       "'13579'"
      ]
     },
     "execution_count": 51,
     "metadata": {},
     "output_type": "execute_result"
    }
   ],
   "source": [
    "numbers[1::2]"
   ]
  }
 ],
 "metadata": {
  "kernelspec": {
   "display_name": "Python 3 (ipykernel)",
   "language": "python",
   "name": "python3"
  },
  "language_info": {
   "codemirror_mode": {
    "name": "ipython",
    "version": 3
   },
   "file_extension": ".py",
   "mimetype": "text/x-python",
   "name": "python",
   "nbconvert_exporter": "python",
   "pygments_lexer": "ipython3",
   "version": "3.11.7"
  }
 },
 "nbformat": 4,
 "nbformat_minor": 5
}
