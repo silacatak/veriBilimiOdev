{
 "cells": [
  {
   "cell_type": "code",
   "execution_count": null,
   "id": "3800611d-aab4-4b3c-a0c2-564adec4a0ee",
   "metadata": {},
   "outputs": [],
   "source": [
    "• Kullanıcıdan pi değeri ve yarıçap bilgisi alarak dairenin alanını hesaplayan bir fonksiyon oluşturulur."
   ]
  },
  {
   "cell_type": "code",
   "execution_count": 5,
   "id": "9049a465-09e7-4f53-8020-1c4f99f269de",
   "metadata": {},
   "outputs": [
    {
     "name": "stdin",
     "output_type": "stream",
     "text": [
      "Pi değerini giriniz:  2\n",
      "Yarıçap değerini giriniz:  3\n"
     ]
    },
    {
     "data": {
      "text/plain": [
       "'Alan: 18.0'"
      ]
     },
     "execution_count": 5,
     "metadata": {},
     "output_type": "execute_result"
    }
   ],
   "source": [
    "pi_deger = input(\"Pi değerini giriniz: \")\n",
    "yaricap = input(\"Yarıçap değerini giriniz: \")\n",
    "\n",
    "def daire_alan():\n",
    "    alan = float(pi_deger) * (float(yaricap)**2)\n",
    "    return(f\"Alan: {alan}\")\n",
    "\n",
    "daire_alan()"
   ]
  },
  {
   "cell_type": "code",
   "execution_count": null,
   "id": "07e6a54e-685b-4dec-be8a-c5dd521b9a85",
   "metadata": {},
   "outputs": [],
   "source": [
    "• Faktöriyel adında fonksiyon oluşturulur. Döngü kullanarak parametre olarak girilen sayının faktöriyeli hesaplanır. Format metodunu kullanılarak ekrana yazdırılır."
   ]
  },
  {
   "cell_type": "code",
   "execution_count": 15,
   "id": "7bb0738c-4626-4809-aa66-0a5fee9d907a",
   "metadata": {},
   "outputs": [
    {
     "name": "stdin",
     "output_type": "stream",
     "text": [
      "Hangi sayının faktöriyeli hesaplamak istiyorsunuz:  3\n"
     ]
    },
    {
     "name": "stdout",
     "output_type": "stream",
     "text": [
      "sonuç: 6\n"
     ]
    }
   ],
   "source": [
    "sayi = int(input(\"Hangi sayının faktöriyeli hesaplamak istiyorsunuz: \"))\n",
    "\n",
    "def faktoriyel(sayi):\n",
    "    answer = 1\n",
    "    while sayi > 0 :\n",
    "       answer = answer * sayi\n",
    "       sayi = sayi - 1\n",
    "    return answer\n",
    "\n",
    "\n",
    "print(\"sonuç: {}\".format(faktoriyel(sayi)))"
   ]
  },
  {
   "cell_type": "code",
   "execution_count": null,
   "id": "f3227df7-ee2d-4c84-84a9-0c671d9f6b74",
   "metadata": {},
   "outputs": [],
   "source": [
    "• Kişinin fonksiyona doğum yılını vererek kaç yaşında olduğunu hesaplayan bir fonksiyon oluşturun. "
   ]
  },
  {
   "cell_type": "code",
   "execution_count": 7,
   "id": "f3d2da95-2495-4db6-8da0-137ebb2fda15",
   "metadata": {},
   "outputs": [
    {
     "name": "stdin",
     "output_type": "stream",
     "text": [
      "Doğum yılınız nedir :  2003\n"
     ]
    },
    {
     "name": "stdout",
     "output_type": "stream",
     "text": [
      "Yaşınız : 21\n"
     ]
    }
   ],
   "source": [
    "import datetime\n",
    "\n",
    "dogumYili= int(input(\"Doğum yılınız nedir : \"))\n",
    "\n",
    "def hesapla(x):\n",
    "    suan = datetime.datetime.now()\n",
    "    suanYil= suan.year\n",
    "    sonuc = suanYil - x \n",
    "    return sonuc\n",
    "\n",
    "\n",
    "print(\"Yaşınız : {}\".format(hesapla(dogumYili)))"
   ]
  },
  {
   "cell_type": "code",
   "execution_count": null,
   "id": "cf0de316-9acd-4b33-bf30-495329df5977",
   "metadata": {},
   "outputs": [],
   "source": [
    "• Doğum yılı ve isim bilgisi verilen fonksiyon kişinin emekli olup olmadığını söylesin.(Kişi 65 yaşında ise emekli olur.) \n",
    "Burada yaş hesabını yukarıdaki örnekteki fonksiyonu kullanarak yapsın.(Yani fonksiyon içinde fonksiyon kullanmanızı istiyorum :)) \n",
    "Kişi 65 yaşında ya da daha fazlaysa \"Emekli oldunuz\" yanıtını, 65 yaşından küçükse emekliliğine kaç yıl kaldığını da hesaplayarak \n",
    "\"(isim) emekliliğine (yıl) kaldı.\" yanıtını versin."
   ]
  },
  {
   "cell_type": "code",
   "execution_count": 20,
   "id": "cdff1490-3c76-459f-9b88-6165272b5a80",
   "metadata": {},
   "outputs": [
    {
     "name": "stdin",
     "output_type": "stream",
     "text": [
      "Adınız nedir :  sıla\n",
      "Doğum yılınız nedir :  1920\n"
     ]
    },
    {
     "name": "stdout",
     "output_type": "stream",
     "text": [
      "Emekli oldunuz tebrikler\n"
     ]
    }
   ],
   "source": [
    "adiniz = input(\"Adınız nedir : \")\n",
    "dogumYili = int(input(\"Doğum yılınız nedir : \"))\n",
    "suan = hesapla(dogumYili)\n",
    "\n",
    "def emeklilik(suan):\n",
    "    if suan >= 65:\n",
    "     print(\"Emekli oldunuz tebrikler\")\n",
    "    else :\n",
    "     yil = 65 - suan \n",
    "     print(f\"{adiniz} emekliliğe {yil} kaldı.\")\n",
    "\n",
    "emeklilik(suan)"
   ]
  }
 ],
 "metadata": {
  "kernelspec": {
   "display_name": "Python 3 (ipykernel)",
   "language": "python",
   "name": "python3"
  },
  "language_info": {
   "codemirror_mode": {
    "name": "ipython",
    "version": 3
   },
   "file_extension": ".py",
   "mimetype": "text/x-python",
   "name": "python",
   "nbconvert_exporter": "python",
   "pygments_lexer": "ipython3",
   "version": "3.11.7"
  }
 },
 "nbformat": 4,
 "nbformat_minor": 5
}
