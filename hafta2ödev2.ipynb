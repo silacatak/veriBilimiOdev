{
 "cells": [
  {
   "cell_type": "code",
   "execution_count": null,
   "id": "1feca65c-f701-4fb1-83ed-4279e2a1b7a8",
   "metadata": {},
   "outputs": [],
   "source": [
    "Aşağıdaki işlemleri indexing ve slicing kullanarak liste üzerinde uygulayın.\n",
    "\n",
    "liste = [\"Python\",True,9,\"3\",8.4,\"Hi-Kod\",\"False\",4.7]\n",
    "\n",
    " \"3\" değerine ulaşmak için indexleme yapın.\n",
    "\n",
    " \"Hi-Kod\" değerine ulaşmak için indexleme yapın.\n",
    "\n",
    " 4.7 değerine ulaşmak için indexleme yapın.\n",
    "\n",
    " 9,\"3\",8.4,\"Hi-Kod\" değerlerine ulaşmak için slicing yapın.\n",
    "\n",
    " 8.4,\"Hi-Kod\",\"False\",4.7 değerlerine ulaşmak için slicing yapın.\n"
   ]
  },
  {
   "cell_type": "code",
   "execution_count": 1,
   "id": "e384c3a1-5e2e-4a2b-8c3b-47f069870295",
   "metadata": {},
   "outputs": [],
   "source": [
    "liste = [\"Python\",True,9,\"3\",8.4,\"Hi-Kod\",\"False\",4.7]"
   ]
  },
  {
   "cell_type": "code",
   "execution_count": 5,
   "id": "0952c3f7-cba5-46c4-8700-4fa87346cd1d",
   "metadata": {},
   "outputs": [
    {
     "name": "stdout",
     "output_type": "stream",
     "text": [
      "3\n"
     ]
    }
   ],
   "source": [
    "üc = liste[3]\n",
    "print(üc)"
   ]
  },
  {
   "cell_type": "code",
   "execution_count": 7,
   "id": "e804cfa0-730b-4873-8f84-fa8dc33ceea1",
   "metadata": {},
   "outputs": [
    {
     "name": "stdout",
     "output_type": "stream",
     "text": [
      "Hi-Kod\n"
     ]
    }
   ],
   "source": [
    "hikod = liste[5]\n",
    "print(hikod)"
   ]
  },
  {
   "cell_type": "code",
   "execution_count": 9,
   "id": "2c1b4f9e-74ee-487e-a1b3-9aa58a020fa3",
   "metadata": {},
   "outputs": [
    {
     "name": "stdout",
     "output_type": "stream",
     "text": [
      "4.7\n"
     ]
    }
   ],
   "source": [
    "sondeger = liste[-1]\n",
    "print(sondeger)"
   ]
  },
  {
   "cell_type": "code",
   "execution_count": 11,
   "id": "21a3ec6d-2d07-47fb-8ea5-f81be9eaf2f8",
   "metadata": {},
   "outputs": [
    {
     "name": "stdout",
     "output_type": "stream",
     "text": [
      "[9, '3', 8.4, 'Hi-Kod']\n"
     ]
    }
   ],
   "source": [
    "aralik = liste[2:6]\n",
    "print(aralik)"
   ]
  },
  {
   "cell_type": "code",
   "execution_count": 12,
   "id": "fac4400b-f136-4ba5-b740-5ff377f1cc28",
   "metadata": {},
   "outputs": [
    {
     "name": "stdout",
     "output_type": "stream",
     "text": [
      "[8.4, 'Hi-Kod', 'False', 4.7]\n"
     ]
    }
   ],
   "source": [
    "aralik2 = liste[4:]\n",
    "print(aralik2)"
   ]
  },
  {
   "cell_type": "code",
   "execution_count": null,
   "id": "5c581c5a-a29e-41b9-9c79-db162870c09f",
   "metadata": {},
   "outputs": [],
   "source": [
    "Verilen listede bulunan string veri tipindeki öğeleri yeni_liste isimli listeye eklenir."
   ]
  },
  {
   "cell_type": "code",
   "execution_count": 4,
   "id": "4bf45c28-d9fc-4250-9ffe-5641ba950fc5",
   "metadata": {},
   "outputs": [
    {
     "name": "stdout",
     "output_type": "stream",
     "text": [
      "['Python', '3', 'Hi-Kod', 'False']\n"
     ]
    }
   ],
   "source": [
    "yeni_liste = []\n",
    "\n",
    "for veri in liste :\n",
    "    if isinstance(veri,str):\n",
    "      yeni_liste.append(veri)\n",
    "print(yeni_liste)"
   ]
  },
  {
   "cell_type": "code",
   "execution_count": null,
   "id": "b47ed02b-2072-4c55-8008-3a43abde111d",
   "metadata": {},
   "outputs": [],
   "source": [
    "#isinstance bir nesnenin belirli bir sınıfa (veya sınıf grubuna) ait olup olmadığını kontrol etmek için kullanılır."
   ]
  },
  {
   "cell_type": "code",
   "execution_count": null,
   "id": "aa60edc7-ade0-42e3-997e-9adba8078999",
   "metadata": {},
   "outputs": [],
   "source": [
    "Enumerate methodunu araştırın ve aşağıdaki örneği enumerate methodu ile yapın.\n",
    "\n",
    "for index in range(len(meyveler)):\n",
    "\n",
    "    print(\"{}. indexte bulunan meyve: {}\".format(index,meyveler[index])"
   ]
  },
  {
   "cell_type": "code",
   "execution_count": null,
   "id": "53ffdaca-eadd-4b45-9497-868c3dec9128",
   "metadata": {},
   "outputs": [],
   "source": [
    "#nesnenin üzerinde döngü kurarken, hem indeksini hem de değerini elde etmek için kullanılır. \n",
    "#Bu fonksiyon, her bir öğe için bir tuple (demet) döner; bu tuple'ın birinci öğesi indeks, ikinci öğesi ise o indeksteki değerdir."
   ]
  },
  {
   "cell_type": "code",
   "execution_count": 5,
   "id": "fbf91157-e83e-4f48-a82c-2a547ed087be",
   "metadata": {},
   "outputs": [],
   "source": [
    "meyveler = [\"elma\" , \"vişne\", \"çilek\" , \"kivi\" , \"portakal\" , \"erik\", \"şeftali\"]"
   ]
  },
  {
   "cell_type": "code",
   "execution_count": 9,
   "id": "a36419cd-56f0-4d64-8bc2-50c7a58a89b5",
   "metadata": {},
   "outputs": [
    {
     "name": "stdout",
     "output_type": "stream",
     "text": [
      "0. indexte bulunan meyve: elma\n",
      "1. indexte bulunan meyve: vişne\n",
      "2. indexte bulunan meyve: çilek\n",
      "3. indexte bulunan meyve: kivi\n",
      "4. indexte bulunan meyve: portakal\n",
      "5. indexte bulunan meyve: erik\n",
      "6. indexte bulunan meyve: şeftali\n"
     ]
    }
   ],
   "source": [
    "for index , deger in enumerate(meyveler):\n",
    "    print(\"{}. indexte bulunan meyve: {}\".format(index,deger))"
   ]
  }
 ],
 "metadata": {
  "kernelspec": {
   "display_name": "Python 3 (ipykernel)",
   "language": "python",
   "name": "python3"
  },
  "language_info": {
   "codemirror_mode": {
    "name": "ipython",
    "version": 3
   },
   "file_extension": ".py",
   "mimetype": "text/x-python",
   "name": "python",
   "nbconvert_exporter": "python",
   "pygments_lexer": "ipython3",
   "version": "3.11.7"
  }
 },
 "nbformat": 4,
 "nbformat_minor": 5
}
