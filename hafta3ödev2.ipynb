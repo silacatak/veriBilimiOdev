{
 "cells": [
  {
   "cell_type": "code",
   "execution_count": null,
   "id": "43a391c5-e740-489c-9f17-326d9a2d790a",
   "metadata": {},
   "outputs": [],
   "source": [
    "**Sayılardan oluşan bir boyutlu array oluşturulur. Arrayi oluştururken sayıların veri tipini integer olarak belirtilir.\n",
    "Oluşturulan arrayin boyut, eleman sayısı bilgilerine bakılır. "
   ]
  },
  {
   "cell_type": "code",
   "execution_count": 4,
   "id": "edd71ac7-5c16-4b32-bdb8-0c02c8242d25",
   "metadata": {},
   "outputs": [],
   "source": [
    "import numpy as np\n",
    "\n",
    "numbers = np.array([1,32,548,5,2,90] , dtype=int ) # dtype= str  yaparsan veri tipleri string olur "
   ]
  },
  {
   "cell_type": "code",
   "execution_count": 5,
   "id": "fb3c431f-562b-4246-9742-e2e2f65ce4fd",
   "metadata": {},
   "outputs": [
    {
     "data": {
      "text/plain": [
       "array([  1,  32, 548,   5,   2,  90])"
      ]
     },
     "execution_count": 5,
     "metadata": {},
     "output_type": "execute_result"
    }
   ],
   "source": [
    "numbers"
   ]
  },
  {
   "cell_type": "code",
   "execution_count": 80,
   "id": "bb0aaa2f-1d07-4833-987b-3cab132385ba",
   "metadata": {},
   "outputs": [
    {
     "data": {
      "text/plain": [
       "(6,)"
      ]
     },
     "execution_count": 80,
     "metadata": {},
     "output_type": "execute_result"
    }
   ],
   "source": [
    "numbers.shape #1 boyurlularda eleman sayısını verir"
   ]
  },
  {
   "cell_type": "code",
   "execution_count": 32,
   "id": "6b53f98a-f1a0-4e27-b3fb-7cc7a77048de",
   "metadata": {},
   "outputs": [
    {
     "data": {
      "text/plain": [
       "dtype('int32')"
      ]
     },
     "execution_count": 32,
     "metadata": {},
     "output_type": "execute_result"
    }
   ],
   "source": [
    "numbers.dtype"
   ]
  },
  {
   "cell_type": "code",
   "execution_count": 30,
   "id": "4a8e2863-9020-43c5-ac42-2db5e3076338",
   "metadata": {},
   "outputs": [
    {
     "name": "stdout",
     "output_type": "stream",
     "text": [
      "1\n"
     ]
    }
   ],
   "source": [
    "print(numbers.ndim) # boyut bilgirir"
   ]
  },
  {
   "cell_type": "code",
   "execution_count": 8,
   "id": "291781ea-c096-42d5-b9a3-5fb9acb09e15",
   "metadata": {},
   "outputs": [
    {
     "name": "stdout",
     "output_type": "stream",
     "text": [
      "6\n"
     ]
    }
   ],
   "source": [
    "print(numbers.size) # eleman sayısı"
   ]
  },
  {
   "cell_type": "code",
   "execution_count": null,
   "id": "04298a8f-5a5c-4ccc-8ad8-f7bbd892daa8",
   "metadata": {},
   "outputs": [],
   "source": [
    "**İki ve üç boyutlu arrayler oluşturulur. Bu arraylerin boyut, eleman sayısı, satır, sütun bilgilerine ulaşılır.\n",
    "Arrayler üzerinde indexleme ve dilimleme(slicing) işlemi yapılır."
   ]
  },
  {
   "cell_type": "code",
   "execution_count": 19,
   "id": "faec4dcd-509d-4bcc-b6c3-d3cfcd5357a6",
   "metadata": {},
   "outputs": [],
   "source": [
    "number2 = np.array([[34,4,78,4],\n",
    "                    [4,12,3,9]], dtype=int) # farklı veri tipleri ve farklı boyutlarda olmamasına dikkat ediniz"
   ]
  },
  {
   "cell_type": "code",
   "execution_count": 33,
   "id": "6e807987-26e2-44fb-958d-a28ca156aa82",
   "metadata": {},
   "outputs": [],
   "source": [
    "number3 =  np.array([[[1, 2, 3], [4, 5, 6]], \n",
    "                     [[1, 2, 3], [4, 5, 6]]])"
   ]
  },
  {
   "cell_type": "code",
   "execution_count": 34,
   "id": "19848a77-37f6-4479-bf68-3947059c519b",
   "metadata": {},
   "outputs": [
    {
     "data": {
      "text/plain": [
       "dtype('int32')"
      ]
     },
     "execution_count": 34,
     "metadata": {},
     "output_type": "execute_result"
    }
   ],
   "source": [
    "number3.dtype"
   ]
  },
  {
   "cell_type": "code",
   "execution_count": 31,
   "id": "0fdeac25-53b4-4d32-bfc3-518b28b40e0f",
   "metadata": {},
   "outputs": [
    {
     "name": "stdout",
     "output_type": "stream",
     "text": [
      "İki boyutlu array de boyut: 2 Üç boyutluda array : 3\n"
     ]
    }
   ],
   "source": [
    "print(\"İki boyutlu array de boyut: {} Üç boyutlu array ise: {}\".format(number2.ndim,number3.ndim))"
   ]
  },
  {
   "cell_type": "code",
   "execution_count": 28,
   "id": "a537423b-9a44-4707-b622-a5909cf16d16",
   "metadata": {},
   "outputs": [
    {
     "name": "stdout",
     "output_type": "stream",
     "text": [
      "İki boyutlu array de eleman sayısı: 8 Üç boyutluda eleman sayısı : 12\n"
     ]
    }
   ],
   "source": [
    "print(\"İki boyutlu array de eleman sayısı: {} Üç boyutluda eleman sayısı : {}\".format(number2.size,number3.size))"
   ]
  },
  {
   "cell_type": "code",
   "execution_count": 35,
   "id": "4ce72639-5fda-4c51-bd3c-bc536219ef6d",
   "metadata": {},
   "outputs": [
    {
     "data": {
      "text/plain": [
       "(2, 2, 3)"
      ]
     },
     "execution_count": 35,
     "metadata": {},
     "output_type": "execute_result"
    }
   ],
   "source": [
    "number3.shape # 3 boyutlularda katman,satır ve sütün bilgisini verir"
   ]
  },
  {
   "cell_type": "code",
   "execution_count": 36,
   "id": "2c544645-9cc1-41ba-8f05-5f895f222438",
   "metadata": {},
   "outputs": [
    {
     "data": {
      "text/plain": [
       "(2, 4)"
      ]
     },
     "execution_count": 36,
     "metadata": {},
     "output_type": "execute_result"
    }
   ],
   "source": [
    "number2.shape # 2 boyutlu arraylarda satır ve sütün bilgisini verir."
   ]
  },
  {
   "cell_type": "code",
   "execution_count": 78,
   "id": "7b04c084-55d9-4c5a-a7a7-cd4ae5dfea5a",
   "metadata": {},
   "outputs": [
    {
     "data": {
      "text/plain": [
       "2"
      ]
     },
     "execution_count": 78,
     "metadata": {},
     "output_type": "execute_result"
    }
   ],
   "source": [
    "number2.ndim"
   ]
  },
  {
   "cell_type": "code",
   "execution_count": 79,
   "id": "e6faa66f-5bbd-47d7-9671-a3efac88993d",
   "metadata": {},
   "outputs": [
    {
     "data": {
      "text/plain": [
       "3"
      ]
     },
     "execution_count": 79,
     "metadata": {},
     "output_type": "execute_result"
    }
   ],
   "source": [
    "number3.ndim # 3boyutlu"
   ]
  },
  {
   "cell_type": "code",
   "execution_count": 37,
   "id": "ffee3140-e172-4648-a72d-f30271ce178a",
   "metadata": {},
   "outputs": [
    {
     "data": {
      "text/plain": [
       "4"
      ]
     },
     "execution_count": 37,
     "metadata": {},
     "output_type": "execute_result"
    }
   ],
   "source": [
    "number2[0][1]"
   ]
  },
  {
   "cell_type": "code",
   "execution_count": 38,
   "id": "eeea3a3f-4108-4821-b7fd-6621a5d35f2e",
   "metadata": {},
   "outputs": [
    {
     "data": {
      "text/plain": [
       "9"
      ]
     },
     "execution_count": 38,
     "metadata": {},
     "output_type": "execute_result"
    }
   ],
   "source": [
    "number2[1][-1]"
   ]
  },
  {
   "cell_type": "code",
   "execution_count": 39,
   "id": "33ca6405-7da0-4505-8fd0-b2412fdc1690",
   "metadata": {},
   "outputs": [
    {
     "data": {
      "text/plain": [
       "78"
      ]
     },
     "execution_count": 39,
     "metadata": {},
     "output_type": "execute_result"
    }
   ],
   "source": [
    "number2[0][2]"
   ]
  },
  {
   "cell_type": "code",
   "execution_count": 40,
   "id": "a2a37563-cfa5-44be-b81e-2e5515481a6b",
   "metadata": {},
   "outputs": [
    {
     "data": {
      "text/plain": [
       "6"
      ]
     },
     "execution_count": 40,
     "metadata": {},
     "output_type": "execute_result"
    }
   ],
   "source": [
    "number3[0][1][2]"
   ]
  },
  {
   "cell_type": "code",
   "execution_count": 41,
   "id": "9c0142d2-2cf3-4e6e-9c0f-ac5ad0ef9a76",
   "metadata": {},
   "outputs": [
    {
     "data": {
      "text/plain": [
       "array([[1, 2, 3],\n",
       "       [4, 5, 6]])"
      ]
     },
     "execution_count": 41,
     "metadata": {},
     "output_type": "execute_result"
    }
   ],
   "source": [
    "number3[1]"
   ]
  },
  {
   "cell_type": "code",
   "execution_count": 43,
   "id": "2c12cdf9-4a16-4811-8adf-4415138fc506",
   "metadata": {},
   "outputs": [
    {
     "data": {
      "text/plain": [
       "5"
      ]
     },
     "execution_count": 43,
     "metadata": {},
     "output_type": "execute_result"
    }
   ],
   "source": [
    "number3[1][1][1]"
   ]
  },
  {
   "cell_type": "markdown",
   "id": "9262cb3c-118d-4a08-8ec7-d4b67d4ffd4b",
   "metadata": {},
   "source": [
    "Slicing "
   ]
  },
  {
   "cell_type": "code",
   "execution_count": 44,
   "id": "975c7d63-93c0-4924-8664-907ca5151af6",
   "metadata": {},
   "outputs": [
    {
     "data": {
      "text/plain": [
       "array([[34,  4, 78,  4],\n",
       "       [ 4, 12,  3,  9]])"
      ]
     },
     "execution_count": 44,
     "metadata": {},
     "output_type": "execute_result"
    }
   ],
   "source": [
    "number2"
   ]
  },
  {
   "cell_type": "code",
   "execution_count": 45,
   "id": "a61315b8-1bed-4be2-844f-66953a82139f",
   "metadata": {},
   "outputs": [
    {
     "data": {
      "text/plain": [
       "array([[[1, 2, 3],\n",
       "        [4, 5, 6]],\n",
       "\n",
       "       [[1, 2, 3],\n",
       "        [4, 5, 6]]])"
      ]
     },
     "execution_count": 45,
     "metadata": {},
     "output_type": "execute_result"
    }
   ],
   "source": [
    "number3"
   ]
  },
  {
   "cell_type": "code",
   "execution_count": null,
   "id": "bdffa5ea-b414-49a7-9137-0f8970e34915",
   "metadata": {},
   "outputs": [],
   "source": [
    "#[start:end]\n",
    "#[start:end:step]"
   ]
  },
  {
   "cell_type": "code",
   "execution_count": 48,
   "id": "0290736d-adb8-43e3-90bf-2d08bc1ba5d5",
   "metadata": {},
   "outputs": [
    {
     "data": {
      "text/plain": [
       "array([[ 4, 12,  3,  9]])"
      ]
     },
     "execution_count": 48,
     "metadata": {},
     "output_type": "execute_result"
    }
   ],
   "source": [
    "number2[1:]"
   ]
  },
  {
   "cell_type": "code",
   "execution_count": 49,
   "id": "9126bfd9-ef54-4428-b6a8-1385f3d89de2",
   "metadata": {},
   "outputs": [
    {
     "data": {
      "text/plain": [
       "array([[ 4, 12,  3,  9]])"
      ]
     },
     "execution_count": 49,
     "metadata": {},
     "output_type": "execute_result"
    }
   ],
   "source": [
    "number2[1:3]"
   ]
  },
  {
   "cell_type": "code",
   "execution_count": 55,
   "id": "e2bccb66-d6e7-4a58-8de7-ccba55c16822",
   "metadata": {},
   "outputs": [
    {
     "data": {
      "text/plain": [
       "array([[34,  4, 78,  4]])"
      ]
     },
     "execution_count": 55,
     "metadata": {},
     "output_type": "execute_result"
    }
   ],
   "source": [
    "number2[0:1]"
   ]
  },
  {
   "cell_type": "code",
   "execution_count": 57,
   "id": "411cd5b8-15c7-42af-a202-d7dbca851656",
   "metadata": {},
   "outputs": [
    {
     "data": {
      "text/plain": [
       "array([[34,  4, 78,  4]])"
      ]
     },
     "execution_count": 57,
     "metadata": {},
     "output_type": "execute_result"
    }
   ],
   "source": [
    "number2[:1]"
   ]
  },
  {
   "cell_type": "code",
   "execution_count": 66,
   "id": "ea661676-b311-4df4-9fda-ed431f455ee2",
   "metadata": {},
   "outputs": [
    {
     "data": {
      "text/plain": [
       "array([78,  3])"
      ]
     },
     "execution_count": 66,
     "metadata": {},
     "output_type": "execute_result"
    }
   ],
   "source": [
    "number2[0:2,2] "
   ]
  },
  {
   "cell_type": "code",
   "execution_count": 81,
   "id": "3bcd6877-7286-4a38-871c-2fbc8b383a1f",
   "metadata": {},
   "outputs": [
    {
     "data": {
      "text/plain": [
       "array([[ 4, 12]])"
      ]
     },
     "execution_count": 81,
     "metadata": {},
     "output_type": "execute_result"
    }
   ],
   "source": [
    "number2[1:,0:2]"
   ]
  },
  {
   "cell_type": "code",
   "execution_count": 68,
   "id": "dd1ee864-513e-4bff-998d-37c7ecaf2118",
   "metadata": {},
   "outputs": [
    {
     "data": {
      "text/plain": [
       "array([ 4, 12])"
      ]
     },
     "execution_count": 68,
     "metadata": {},
     "output_type": "execute_result"
    }
   ],
   "source": [
    "number2[: ,1]"
   ]
  },
  {
   "cell_type": "code",
   "execution_count": 70,
   "id": "5b7b5e07-03cb-4dae-b24b-3a40bc587fb5",
   "metadata": {},
   "outputs": [
    {
     "data": {
      "text/plain": [
       "array([ 4, 12,  3,  9])"
      ]
     },
     "execution_count": 70,
     "metadata": {},
     "output_type": "execute_result"
    }
   ],
   "source": [
    "number2[1,:]"
   ]
  },
  {
   "cell_type": "code",
   "execution_count": 71,
   "id": "cb55e200-d655-4e59-b140-bd963999bc39",
   "metadata": {},
   "outputs": [
    {
     "data": {
      "text/plain": [
       "array([4, 9])"
      ]
     },
     "execution_count": 71,
     "metadata": {},
     "output_type": "execute_result"
    }
   ],
   "source": [
    "number2[: ,-1]"
   ]
  },
  {
   "cell_type": "code",
   "execution_count": 58,
   "id": "001af77d-7d9d-4040-b63d-e746daab888a",
   "metadata": {},
   "outputs": [
    {
     "data": {
      "text/plain": [
       "array([[1, 2, 3],\n",
       "       [4, 5, 6]])"
      ]
     },
     "execution_count": 58,
     "metadata": {},
     "output_type": "execute_result"
    }
   ],
   "source": [
    "number3[1]"
   ]
  },
  {
   "cell_type": "code",
   "execution_count": 74,
   "id": "06106bdd-6b1c-403f-8af4-c8e1a6149efa",
   "metadata": {},
   "outputs": [
    {
     "data": {
      "text/plain": [
       "array([[2, 3],\n",
       "       [5, 6]])"
      ]
     },
     "execution_count": 74,
     "metadata": {},
     "output_type": "execute_result"
    }
   ],
   "source": [
    "number3[0,:,1:]"
   ]
  },
  {
   "cell_type": "code",
   "execution_count": 75,
   "id": "429a90d8-a1d3-4a11-ba53-e837fcb0bf60",
   "metadata": {},
   "outputs": [
    {
     "data": {
      "text/plain": [
       "array([4, 5, 6])"
      ]
     },
     "execution_count": 75,
     "metadata": {},
     "output_type": "execute_result"
    }
   ],
   "source": [
    "number3[0,1,:]"
   ]
  },
  {
   "cell_type": "code",
   "execution_count": 76,
   "id": "fe7b2825-7512-4507-ab6e-35b2eac22a9d",
   "metadata": {},
   "outputs": [
    {
     "data": {
      "text/plain": [
       "array([4, 5])"
      ]
     },
     "execution_count": 76,
     "metadata": {},
     "output_type": "execute_result"
    }
   ],
   "source": [
    "number3[1,1,0:2] # birinci gövdenin içindeki birinci gövde de 0dan başla 2 eleman"
   ]
  },
  {
   "cell_type": "code",
   "execution_count": 77,
   "id": "bdeab53f-76d0-405d-bfe7-4f9f6b03f354",
   "metadata": {},
   "outputs": [
    {
     "data": {
      "text/plain": [
       "array([[1, 2],\n",
       "       [4, 5]])"
      ]
     },
     "execution_count": 77,
     "metadata": {},
     "output_type": "execute_result"
    }
   ],
   "source": [
    "number3[1,:,0:2] #number3 içinde birinci gövdenin içinden sonuna kadarki içindeki tüm gövdeler de 0dan başla ilk 2 eleman"
   ]
  },
  {
   "cell_type": "markdown",
   "id": "c0ac8f2c-0985-473d-aed6-2432d70fa3bc",
   "metadata": {},
   "source": [
    "Reshape : yeniden boyutlandırmak içindir"
   ]
  },
  {
   "cell_type": "code",
   "execution_count": 82,
   "id": "2f307f5f-ff24-4def-a92b-23610a983a88",
   "metadata": {},
   "outputs": [],
   "source": [
    "fruits = np.array([\"apple\", \"banana\",\"grape\", \"swtrawberry\", \"watermelon\", \"blueberry\" , \"cherry\",\"peach\"])"
   ]
  },
  {
   "cell_type": "code",
   "execution_count": 83,
   "id": "a4f3d8d1-5772-4846-bdda-d42db57b9302",
   "metadata": {},
   "outputs": [
    {
     "data": {
      "text/plain": [
       "(8,)"
      ]
     },
     "execution_count": 83,
     "metadata": {},
     "output_type": "execute_result"
    }
   ],
   "source": [
    "fruits.shape"
   ]
  },
  {
   "cell_type": "code",
   "execution_count": 85,
   "id": "d18b4f8b-896f-4ced-bbf8-fceacd31ab69",
   "metadata": {},
   "outputs": [
    {
     "data": {
      "text/plain": [
       "array([['apple', 'banana'],\n",
       "       ['grape', 'swtrawberry'],\n",
       "       ['watermelon', 'blueberry'],\n",
       "       ['cherry', 'peach']], dtype='<U11')"
      ]
     },
     "execution_count": 85,
     "metadata": {},
     "output_type": "execute_result"
    }
   ],
   "source": [
    "fruits.reshape(4,2)"
   ]
  },
  {
   "cell_type": "code",
   "execution_count": 87,
   "id": "cead3da9-a2f7-475c-9fac-ba7af0a653e2",
   "metadata": {},
   "outputs": [
    {
     "data": {
      "text/plain": [
       "array([['apple', 'banana', 'grape', 'swtrawberry'],\n",
       "       ['watermelon', 'blueberry', 'cherry', 'peach']], dtype='<U11')"
      ]
     },
     "execution_count": 87,
     "metadata": {},
     "output_type": "execute_result"
    }
   ],
   "source": [
    "fruits.reshape(2,4)"
   ]
  },
  {
   "cell_type": "code",
   "execution_count": null,
   "id": "ffbfeb96-de97-40b2-807b-ab9274f00e00",
   "metadata": {},
   "outputs": [],
   "source": [
    "# cannot reshape array of size 8 into shape (5,3) "
   ]
  },
  {
   "cell_type": "code",
   "execution_count": 89,
   "id": "5d21940b-d0d5-4c70-a70e-7cdcf09fc56a",
   "metadata": {},
   "outputs": [
    {
     "data": {
      "text/plain": [
       "array([[['apple', 'banana'],\n",
       "        ['grape', 'swtrawberry']],\n",
       "\n",
       "       [['watermelon', 'blueberry'],\n",
       "        ['cherry', 'peach']]], dtype='<U11')"
      ]
     },
     "execution_count": 89,
     "metadata": {},
     "output_type": "execute_result"
    }
   ],
   "source": [
    "fruits.reshape(2,2,2)"
   ]
  },
  {
   "cell_type": "code",
   "execution_count": null,
   "id": "b2d426a4-6f1f-42fa-9ba3-2485e4a34294",
   "metadata": {},
   "outputs": [],
   "source": [
    "#concatenate birleştir"
   ]
  },
  {
   "cell_type": "code",
   "execution_count": 93,
   "id": "4585f35b-eeb9-4c01-89a6-4a97d32be28d",
   "metadata": {},
   "outputs": [
    {
     "data": {
      "text/plain": [
       "array([[1, 2, 3, 4],\n",
       "       [5, 6, 7, 8]])"
      ]
     },
     "execution_count": 93,
     "metadata": {},
     "output_type": "execute_result"
    }
   ],
   "source": [
    "a  = np.array([[1,2,3,4],[5,6,7,8]])\n",
    "a"
   ]
  },
  {
   "cell_type": "code",
   "execution_count": 94,
   "id": "f3dae826-6e93-4ea7-b7db-3ff58536f53e",
   "metadata": {},
   "outputs": [
    {
     "data": {
      "text/plain": [
       "array([[1, 2, 3, 4],\n",
       "       [5, 6, 7, 8],\n",
       "       [1, 2, 3, 4],\n",
       "       [5, 6, 7, 8]])"
      ]
     },
     "execution_count": 94,
     "metadata": {},
     "output_type": "execute_result"
    }
   ],
   "source": [
    "np.concatenate([a,a])"
   ]
  },
  {
   "cell_type": "code",
   "execution_count": 95,
   "id": "80386495-3082-47f8-8c41-5a9b6f773efe",
   "metadata": {},
   "outputs": [
    {
     "data": {
      "text/plain": [
       "array([[1, 2, 3, 4, 1, 2, 3, 4],\n",
       "       [5, 6, 7, 8, 5, 6, 7, 8]])"
      ]
     },
     "execution_count": 95,
     "metadata": {},
     "output_type": "execute_result"
    }
   ],
   "source": [
    "np.concatenate([a,a], axis=1)"
   ]
  },
  {
   "cell_type": "code",
   "execution_count": null,
   "id": "34be17ef-ead4-4fd6-96ca-99df4deaf18b",
   "metadata": {},
   "outputs": [],
   "source": []
  },
  {
   "cell_type": "code",
   "execution_count": null,
   "id": "6f1fc708-e288-436f-abdb-8ac45d47f7dd",
   "metadata": {},
   "outputs": [],
   "source": []
  },
  {
   "cell_type": "code",
   "execution_count": 96,
   "id": "bb6f22dd-0b89-4038-9605-772f991bdca5",
   "metadata": {},
   "outputs": [
    {
     "data": {
      "text/plain": [
       "array([0., 0., 0., 0., 0., 0.])"
      ]
     },
     "execution_count": 96,
     "metadata": {},
     "output_type": "execute_result"
    }
   ],
   "source": [
    "np.zeros(6) # sıfırlardan oluşan bir array"
   ]
  },
  {
   "cell_type": "code",
   "execution_count": 97,
   "id": "1de4127c-599c-49db-8f27-758f828cc86c",
   "metadata": {},
   "outputs": [
    {
     "data": {
      "text/plain": [
       "array([0, 0, 0, 0])"
      ]
     },
     "execution_count": 97,
     "metadata": {},
     "output_type": "execute_result"
    }
   ],
   "source": [
    "np.zeros(4,dtype=int)"
   ]
  },
  {
   "cell_type": "code",
   "execution_count": 98,
   "id": "7d08dbea-eee3-4550-b813-e02e4406c92a",
   "metadata": {},
   "outputs": [
    {
     "data": {
      "text/plain": [
       "array([1., 1., 1., 1., 1., 1., 1., 1., 1.])"
      ]
     },
     "execution_count": 98,
     "metadata": {},
     "output_type": "execute_result"
    }
   ],
   "source": [
    "np.ones(9,dtype=float)"
   ]
  },
  {
   "cell_type": "code",
   "execution_count": 99,
   "id": "89b13151-a3f1-4dc3-8e2d-f54e477a04e4",
   "metadata": {},
   "outputs": [
    {
     "data": {
      "text/plain": [
       "array([[1, 1, 1, 1],\n",
       "       [1, 1, 1, 1],\n",
       "       [1, 1, 1, 1]])"
      ]
     },
     "execution_count": 99,
     "metadata": {},
     "output_type": "execute_result"
    }
   ],
   "source": [
    "np.ones((3,4) , dtype=int)"
   ]
  },
  {
   "cell_type": "code",
   "execution_count": 100,
   "id": "8e114db5-27d3-427d-bcb5-c5c140819cd0",
   "metadata": {},
   "outputs": [
    {
     "data": {
      "text/plain": [
       "array([[8, 8, 8, 8, 8, 8],\n",
       "       [8, 8, 8, 8, 8, 8]])"
      ]
     },
     "execution_count": 100,
     "metadata": {},
     "output_type": "execute_result"
    }
   ],
   "source": [
    "np.full((2,6),8)"
   ]
  },
  {
   "cell_type": "code",
   "execution_count": 101,
   "id": "67aaaf99-0dfd-4e9f-a7b1-8ce490bb811a",
   "metadata": {},
   "outputs": [
    {
     "data": {
      "text/plain": [
       "array([0, 1, 2, 3, 4, 5, 6, 7, 8, 9])"
      ]
     },
     "execution_count": 101,
     "metadata": {},
     "output_type": "execute_result"
    }
   ],
   "source": [
    "np.arange(10)"
   ]
  },
  {
   "cell_type": "code",
   "execution_count": 105,
   "id": "5062f96b-77da-4127-97f1-88f7a80a6624",
   "metadata": {},
   "outputs": [],
   "source": [
    "#np.arrange(ilkdeğer,sondeğer,sayıaralığı)"
   ]
  },
  {
   "cell_type": "code",
   "execution_count": 106,
   "id": "f774bd55-7bf7-44a0-b1ae-abc17903e26b",
   "metadata": {},
   "outputs": [
    {
     "data": {
      "text/plain": [
       "array([0.        , 0.11111111, 0.22222222, 0.33333333, 0.44444444,\n",
       "       0.55555556, 0.66666667, 0.77777778, 0.88888889, 1.        ])"
      ]
     },
     "execution_count": 106,
     "metadata": {},
     "output_type": "execute_result"
    }
   ],
   "source": [
    "np.array(np.linspace(0,1,10))"
   ]
  },
  {
   "cell_type": "code",
   "execution_count": 107,
   "id": "40135017-06fa-4715-add5-a36578fca8d0",
   "metadata": {},
   "outputs": [
    {
     "data": {
      "text/plain": [
       "array([[3, 0, 0],\n",
       "       [5, 4, 5]])"
      ]
     },
     "execution_count": 107,
     "metadata": {},
     "output_type": "execute_result"
    }
   ],
   "source": [
    "np.random.randint(6,size=(2,3))"
   ]
  },
  {
   "cell_type": "markdown",
   "id": "4b2888ba-0f34-4b3a-8877-a2207600d226",
   "metadata": {},
   "source": [
    "İstatiksel fonksiyonlar"
   ]
  },
  {
   "cell_type": "code",
   "execution_count": 109,
   "id": "568fa58d-6808-42af-93d1-953ff01bacb0",
   "metadata": {},
   "outputs": [
    {
     "data": {
      "text/plain": [
       "[1, 34, 45, 38, 9, 67, 3]"
      ]
     },
     "execution_count": 109,
     "metadata": {},
     "output_type": "execute_result"
    }
   ],
   "source": [
    "number"
   ]
  },
  {
   "cell_type": "code",
   "execution_count": 112,
   "id": "039d41e1-9041-4251-9bfa-808bcbf300f1",
   "metadata": {},
   "outputs": [
    {
     "data": {
      "text/plain": [
       "67"
      ]
     },
     "execution_count": 112,
     "metadata": {},
     "output_type": "execute_result"
    }
   ],
   "source": [
    "np.max(number)"
   ]
  },
  {
   "cell_type": "code",
   "execution_count": 113,
   "id": "76b42aa3-1807-47d6-8e83-1d44c03d9970",
   "metadata": {},
   "outputs": [
    {
     "data": {
      "text/plain": [
       "1"
      ]
     },
     "execution_count": 113,
     "metadata": {},
     "output_type": "execute_result"
    }
   ],
   "source": [
    "np.min(number)"
   ]
  },
  {
   "cell_type": "code",
   "execution_count": 114,
   "id": "ec3b72a6-4b1c-4438-b728-862821b8e213",
   "metadata": {},
   "outputs": [
    {
     "data": {
      "text/plain": [
       "28.142857142857142"
      ]
     },
     "execution_count": 114,
     "metadata": {},
     "output_type": "execute_result"
    }
   ],
   "source": [
    "np.mean(number) #ortalama"
   ]
  },
  {
   "cell_type": "code",
   "execution_count": 115,
   "id": "d0af1f77-8b2e-44bc-9ac8-463b801de113",
   "metadata": {},
   "outputs": [
    {
     "data": {
      "text/plain": [
       "22.86874705436952"
      ]
     },
     "execution_count": 115,
     "metadata": {},
     "output_type": "execute_result"
    }
   ],
   "source": [
    "np.std(number) #standartsapma"
   ]
  },
  {
   "cell_type": "markdown",
   "id": "30ca61b0-72b1-490a-ab03-dd8958a9c494",
   "metadata": {},
   "source": [
    "matematiksel fonksiyonlar"
   ]
  },
  {
   "cell_type": "code",
   "execution_count": 116,
   "id": "ff63eb28-69ac-41e1-8d3f-48381f93d79c",
   "metadata": {},
   "outputs": [
    {
     "data": {
      "text/plain": [
       "[1, 34, 45, 38, 9, 67, 3]"
      ]
     },
     "execution_count": 116,
     "metadata": {},
     "output_type": "execute_result"
    }
   ],
   "source": [
    "number"
   ]
  },
  {
   "cell_type": "code",
   "execution_count": 117,
   "id": "d4999066-711c-4d62-969c-8205282ea59b",
   "metadata": {},
   "outputs": [
    {
     "data": {
      "text/plain": [
       "array([  2,  68,  90,  76,  18, 134,   6])"
      ]
     },
     "execution_count": 117,
     "metadata": {},
     "output_type": "execute_result"
    }
   ],
   "source": [
    "numberADD = np.add(number,number)\n",
    "numberADD"
   ]
  },
  {
   "cell_type": "code",
   "execution_count": null,
   "id": "b2092692-7ddf-4147-aa45-2b44dac618f1",
   "metadata": {},
   "outputs": [],
   "source": [
    "#np.multiple (çarpma)\n",
    "#np.divide  (bölme)\n",
    "\n",
    " \n",
    "a = np.array([[1,2],[3,4]]) \n",
    "b = np.array([[5,6],[7,8]]) \n",
    "np.dot(a,b)\n",
    "Çıktı:\n",
    "array([[19,22],[43,50]])\n",
    "\n",
    "Matematiksel olarak açılımı:\n",
    "\n",
    "(1*5)+(2*7)=19\n",
    "(1*6)+(2*8)=22\n",
    "(3*5)+(4*7)=43\n",
    "(3*6)+(4*8)=50\n"
   ]
  }
 ],
 "metadata": {
  "kernelspec": {
   "display_name": "Python 3 (ipykernel)",
   "language": "python",
   "name": "python3"
  },
  "language_info": {
   "codemirror_mode": {
    "name": "ipython",
    "version": 3
   },
   "file_extension": ".py",
   "mimetype": "text/x-python",
   "name": "python",
   "nbconvert_exporter": "python",
   "pygments_lexer": "ipython3",
   "version": "3.11.7"
  }
 },
 "nbformat": 4,
 "nbformat_minor": 5
}
