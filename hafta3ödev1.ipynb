{
 "cells": [
  {
   "cell_type": "code",
   "execution_count": null,
   "id": "b4971e94-cc4f-4a16-8da9-c1ca65bd6b7c",
   "metadata": {},
   "outputs": [],
   "source": [
    "#Bir sözlük oluşturulur ve bu sözlükte öğrencilerin isimleri ve Matematik, Fizik, Kimya notları tutulur. \n",
    "#Kullanıcıdan isim ve ders ismi(Matematik, Fizik, Kimya) istenir ve bu bilgilere göre çıktı verilir."
   ]
  },
  {
   "cell_type": "code",
   "execution_count": 68,
   "id": "d1d91508-5ee0-44bf-b217-b1d1fb7024dc",
   "metadata": {},
   "outputs": [],
   "source": [
    "ögrenciler = {\n",
    "    \"Sıla\":{\n",
    "     \"Matematik\" : 95,\n",
    "     \"Fizik\" : 74,\n",
    "     \"Kimya\": 79 \n",
    "    },\n",
    "\n",
    "    \"Zeynep\":{\n",
    "     \"Matematik\" : 76,\n",
    "     \"Fizik\" : 45,\n",
    "     \"Kimya\": 64 \n",
    "    },\n",
    "\n",
    "    \"Hayat\":{\n",
    "     \"Matematik\" : 54,\n",
    "     \"Fizik\" : 86,\n",
    "     \"Kimya\" : 39 \n",
    "    }\n",
    "}\n"
   ]
  },
  {
   "cell_type": "code",
   "execution_count": 2,
   "id": "5f1464fa-34ae-4485-b683-bafe3dbfc5bf",
   "metadata": {},
   "outputs": [
    {
     "data": {
      "text/plain": [
       "{'Matematik :': 95, 'Fizik : ': 74, 'Kimya : ': 79}"
      ]
     },
     "execution_count": 2,
     "metadata": {},
     "output_type": "execute_result"
    }
   ],
   "source": [
    "ögrenciler[\"Sıla\"]"
   ]
  },
  {
   "cell_type": "code",
   "execution_count": 14,
   "id": "284a0ac9-db5f-4e8d-8c94-073ef22eac8c",
   "metadata": {},
   "outputs": [
    {
     "name": "stdin",
     "output_type": "stream",
     "text": [
      "Adınız: Sıla\n",
      "Ders adını giriniz: Fizik\n"
     ]
    },
    {
     "name": "stdout",
     "output_type": "stream",
     "text": [
      "Sıla adlı öğrencinin Fizik dersinden notu 74\n"
     ]
    }
   ],
   "source": [
    "ögrAdi = input(\"Adınız:\")\n",
    "dersAdi = input(\"Ders adını giriniz:\")\n",
    "\n",
    "if ögrAdi in ögrenciler:\n",
    "    if dersAdi in ögrenciler[ögrAdi] :\n",
    "      notu = ögrenciler[ögrAdi][dersAdi]\n",
    "      print(f\"{ögrAdi} adlı öğrencinin {dersAdi} dersinden notu {notu}\")\n",
    "    else:\n",
    "        print(f\"{ögrAdi} adlı öğrencinin {dersAdi} dersi bulunamadı.\")\n",
    "else :\n",
    "    print(f\"{ögrAdi} adlı öğrenci bulunamadı\")"
   ]
  },
  {
   "cell_type": "code",
   "execution_count": null,
   "id": "362622c1-f5fa-4b01-9343-2b9cc3938792",
   "metadata": {},
   "outputs": [],
   "source": [
    "#Sözlük üzerinde değerleri değiştirme, yeni değer ekleme, kullanıcıya ulaşmak istediği bilgileri sorma gibi uygulamalar yapın."
   ]
  },
  {
   "cell_type": "code",
   "execution_count": null,
   "id": "7ddce17e-2188-437b-9710-d57f1d072e83",
   "metadata": {},
   "outputs": [],
   "source": [
    "#değer değiştirme\n",
    "# ya anahtar kelimesini yazarak değiştirirsin ya update metodunu kullanırsın"
   ]
  },
  {
   "cell_type": "code",
   "execution_count": 22,
   "id": "684b5be2-4e1f-4e8e-bf5f-cbbad646d699",
   "metadata": {},
   "outputs": [
    {
     "data": {
      "text/plain": [
       "10"
      ]
     },
     "execution_count": 22,
     "metadata": {},
     "output_type": "execute_result"
    }
   ],
   "source": [
    "ögrenciler[\"Sıla\"][\"Matematik\"] = 10\n",
    "\n",
    "ögrenciler[\"Sıla\"][\"Matematik\"]"
   ]
  },
  {
   "cell_type": "code",
   "execution_count": 27,
   "id": "e078dade-6f12-4e83-8d9b-8faf852b5514",
   "metadata": {},
   "outputs": [
    {
     "data": {
      "text/plain": [
       "20"
      ]
     },
     "execution_count": 27,
     "metadata": {},
     "output_type": "execute_result"
    }
   ],
   "source": [
    "ögrenciler[\"Sıla\"].update({\"Fizik\" : 20})\n",
    "\n",
    "ögrenciler[\"Sıla\"][\"Fizik\"]"
   ]
  },
  {
   "cell_type": "code",
   "execution_count": null,
   "id": "c9cf645c-486d-4615-aac0-88018a589230",
   "metadata": {},
   "outputs": [],
   "source": [
    "#yeni değer ekleme"
   ]
  },
  {
   "cell_type": "code",
   "execution_count": 31,
   "id": "81113e93-2652-411d-ae92-e468886a09b1",
   "metadata": {},
   "outputs": [],
   "source": [
    "ögrenciler[\"Sıla\"][\"Türkçe\"]  = 100"
   ]
  },
  {
   "cell_type": "code",
   "execution_count": 32,
   "id": "e786631f-e776-4bfc-a5ab-361cd3ac3c99",
   "metadata": {},
   "outputs": [
    {
     "data": {
      "text/plain": [
       "100"
      ]
     },
     "execution_count": 32,
     "metadata": {},
     "output_type": "execute_result"
    }
   ],
   "source": [
    "ögrenciler[\"Sıla\"][\"Türkçe\"]"
   ]
  },
  {
   "cell_type": "code",
   "execution_count": 69,
   "id": "37f1e2b2-66d9-4232-9d20-b426e00a8401",
   "metadata": {},
   "outputs": [
    {
     "name": "stdout",
     "output_type": "stream",
     "text": [
      "{'Sıla': {'Matematik': 95, 'Fizik': 74, 'Kimya': 79}, 'Zeynep': {'Matematik': 76, 'Fizik': 45, 'Kimya': 64}, 'Hayat': {'Matematik': 54, 'Fizik': 86, 'Kimya': 39}}\n"
     ]
    }
   ],
   "source": [
    "print(ögrenciler)"
   ]
  },
  {
   "cell_type": "code",
   "execution_count": null,
   "id": "1aa0c1ba-494b-4fdf-9578-eba2b4acad2b",
   "metadata": {},
   "outputs": [],
   "source": [
    "# del : silme işlemi için kullanılır bununla birlikte pop() da kullanılır"
   ]
  },
  {
   "cell_type": "code",
   "execution_count": 70,
   "id": "9cb33616-e89e-4174-b015-2e3186f40eb4",
   "metadata": {},
   "outputs": [],
   "source": [
    "del ögrenciler[\"Hayat\"]"
   ]
  },
  {
   "cell_type": "code",
   "execution_count": 71,
   "id": "0e9d12a2-33af-4bff-b57c-852b2847379f",
   "metadata": {},
   "outputs": [
    {
     "name": "stdout",
     "output_type": "stream",
     "text": [
      "{'Sıla': {'Matematik': 95, 'Fizik': 74, 'Kimya': 79}, 'Zeynep': {'Matematik': 76, 'Fizik': 45, 'Kimya': 64}}\n"
     ]
    }
   ],
   "source": [
    "print(ögrenciler)"
   ]
  },
  {
   "cell_type": "code",
   "execution_count": 72,
   "id": "309f6c44-12e3-4ee5-aba9-6782561d1a6a",
   "metadata": {},
   "outputs": [
    {
     "data": {
      "text/plain": [
       "64"
      ]
     },
     "execution_count": 72,
     "metadata": {},
     "output_type": "execute_result"
    }
   ],
   "source": [
    "ögrenciler[\"Zeynep\"].pop(\"Kimya\")"
   ]
  },
  {
   "cell_type": "code",
   "execution_count": 73,
   "id": "e50b80a3-bd10-41d4-b502-86ed46225050",
   "metadata": {},
   "outputs": [
    {
     "name": "stdout",
     "output_type": "stream",
     "text": [
      "{'Matematik': 76, 'Fizik': 45}\n"
     ]
    }
   ],
   "source": [
    "print(ögrenciler[\"Zeynep\"])"
   ]
  },
  {
   "cell_type": "code",
   "execution_count": 80,
   "id": "fab65bb7-3bb9-432b-b367-7e34b4f0b8a7",
   "metadata": {},
   "outputs": [],
   "source": [
    "#döngü"
   ]
  },
  {
   "cell_type": "code",
   "execution_count": 79,
   "id": "de7bef91-bcca-4809-9cd3-da3300a8e232",
   "metadata": {},
   "outputs": [
    {
     "name": "stdout",
     "output_type": "stream",
     "text": [
      "Sıla adlı öğrencinin notları : {'Matematik': 95, 'Fizik': 74, 'Kimya': 79}\n",
      "Zeynep adlı öğrencinin notları : {'Matematik': 76, 'Fizik': 45}\n"
     ]
    }
   ],
   "source": [
    "for ögrenci ,dersler in ögrenciler.items():\n",
    "    print(f\"{ögrenci} adlı öğrencinin notları : {dersler}\")"
   ]
  }
 ],
 "metadata": {
  "kernelspec": {
   "display_name": "Python 3 (ipykernel)",
   "language": "python",
   "name": "python3"
  },
  "language_info": {
   "codemirror_mode": {
    "name": "ipython",
    "version": 3
   },
   "file_extension": ".py",
   "mimetype": "text/x-python",
   "name": "python",
   "nbconvert_exporter": "python",
   "pygments_lexer": "ipython3",
   "version": "3.11.7"
  }
 },
 "nbformat": 4,
 "nbformat_minor": 5
}
