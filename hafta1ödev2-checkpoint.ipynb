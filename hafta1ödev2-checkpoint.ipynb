{
 "cells": [
  {
   "cell_type": "markdown",
   "id": "019835b0-739f-435f-b09f-7ffdb8ad5dcc",
   "metadata": {},
   "source": [
    "Ödev-1: Kullanıcıdan maaş bilgisini istenir ve bu bilgiye göre maaşından ne kadar vergi kesileceğini hesaplanır. Kullanıcının geliri;\r\n",
    "\r\n",
    "\r\n",
    " 10000 ve altındaysa maaşından %5 kesinti olur. \r\n",
    " 25000 ve altındaysa maaşından %10 kesinti olur. \r\n",
    " 45000 ve altındaysa maaşından %25 kesinti olur. \r\n",
    " Diğer koşullarda %30 kesinti olur. "
   ]
  },
  {
   "cell_type": "code",
   "execution_count": 1,
   "id": "9f732981-b7fa-4e82-8cef-f954ff36049b",
   "metadata": {},
   "outputs": [
    {
     "name": "stdin",
     "output_type": "stream",
     "text": [
      "Enter your salary: 10000\n"
     ]
    },
    {
     "name": "stdout",
     "output_type": "stream",
     "text": [
      "without tax your salary: 10000\n",
      "with tax your new salary:9500.0 \n",
      "with tax your new salary:9500.0\n"
     ]
    }
   ],
   "source": [
    "salary = int(input(\"Enter your salary:\"))\n",
    "tax = 0\n",
    "newSalary = 0\n",
    "\n",
    "if (salary <= 10000) :\n",
    "     newSalary = salary - (salary*0.05 )\n",
    "    \n",
    "elif (salary <= 25000) : # eğer önceki koşullardan biri sağlandıysa diğer koşulları bakmaz\n",
    "    newSalary = salary - (salary*0.10 )\n",
    "    \n",
    "elif (salary <= 45000) :\n",
    "    newSalary = salary - (salary*0.25 )\n",
    "    \n",
    "else :\n",
    "    newSalary = salary - (salary*0.30 )\n",
    "\n",
    "print(\"without tax your salary:\", salary)\n",
    "print (\"with tax your new salary:{} \".format(newSalary)) # format fonk. süslü parantez içine yazılmasını sağladı\n",
    "print(f\"with tax your new salary:{newSalary}\")\n"
   ]
  },
  {
   "cell_type": "markdown",
   "id": "ec36e663-4e1b-4f05-9127-19e2740c3a32",
   "metadata": {},
   "source": [
    "Ödev-2: Kullanıcıdan kullanıcı adı ve şifre oluşturmasını istenir. Şifrenin uzunluğu altı haneye ulaşmışsa hesabınız oluşturuldu mesajı alınır, altı haneden azsa altı haneli şifre oluşturması gerektiğinin mesajı alınır. (Sadece koşul kullanılması yeterli.)"
   ]
  },
  {
   "cell_type": "code",
   "execution_count": 2,
   "id": "d56ca48c-cfe0-4e50-b06b-7a1cb839985b",
   "metadata": {},
   "outputs": [
    {
     "name": "stdin",
     "output_type": "stream",
     "text": [
      "create your user name: silacatak\n",
      "create your password: 12345\n"
     ]
    },
    {
     "name": "stdout",
     "output_type": "stream",
     "text": [
      "Your password must be 6 digits\n"
     ]
    }
   ],
   "source": [
    "user_name = input(\"create your user name:\")\n",
    "user_password = input(\"create your password:\")\n",
    "\n",
    "if (len(user_password) < 6):\n",
    "    print(\"Your password must be 6 digits\") \n",
    "else:\n",
    "    print(f\"your account created . Your user name: {user_name} and password: {user_password}\")"
   ]
  },
  {
   "cell_type": "markdown",
   "id": "6f3b4ede-b1dc-4b48-b859-b61a9285d496",
   "metadata": {},
   "source": [
    "Ödev-3: Bir önceki örnek geliştirilir.\n",
    "\r\n",
    "\r\n",
    " Kullanıcı girdiği şifre 5 ve 10 hane arasında olmak zorunda. \r\n",
    " Eğer bu koşula uyuyorsa \"Hesabınız oluşturuldu.\" mesajı alır. \r\n",
    " Koşulu sağlamıyorsa \"Lütfen girdiniz şifre 5 haneden az 10 haneden fazla olmasın!\" uyarısı alır. \r\n",
    " Bunu oluştururken kullanıcı istediğimiz şartlarda şifre oluşturana kadar sormaya devam eder "
   ]
  },
  {
   "cell_type": "code",
   "execution_count": 3,
   "id": "2404d9ad-7f8b-4d7c-8ffe-741d44edfc2f",
   "metadata": {},
   "outputs": [
    {
     "name": "stdin",
     "output_type": "stream",
     "text": [
      "create your user name: silacatak\n",
      "create your password (between 5 and 10 digits): 123456\n"
     ]
    },
    {
     "name": "stdout",
     "output_type": "stream",
     "text": [
      "your account created .\n"
     ]
    }
   ],
   "source": [
    "\n",
    "while True:\n",
    "    user_name = input(\"create your user name:\")\n",
    "    user_password = input(\"create your password (between 5 and 10 digits):\")\n",
    "\n",
    "    if (5 <= len(user_password) <= 10):\n",
    "        print(\"your account created .\")\n",
    "        break\n",
    "    else:\n",
    "        print(\"Lütfen girdiniz şifre 5 haneden az 10 haneden fazla olmasın!\")"
   ]
  },
  {
   "cell_type": "markdown",
   "id": "5a07cd95-be8c-4982-88cb-8cb34df2ea99",
   "metadata": {},
   "source": [
    "Ödev-4: Kullanıcıdan isim ve şifre isteyeceğiz ve şifre girişi için üç hak verilir.\r\n",
    "\r\n",
    "\r\n",
    " Eğer önceden tanımlı şifre ile kullanıcıdan gelen şifre aynıysa \"Giriş yapıldı.\" yazar. \r\n",
    " Şifre girişi yanlışsa \"Yanlış şifre girildi!\" uyarısı verilsin ve üç yanlış denemede program biter. \r\n",
    " Tercihe göre kalan hak bilgisi verilir. "
   ]
  },
  {
   "cell_type": "code",
   "execution_count": null,
   "id": "a6e91124-b84c-4fc4-a9f8-96dd0e1004fe",
   "metadata": {},
   "outputs": [],
   "source": [
    "password = 12345\n",
    "\n",
    "login_password = input(\"şifre giriniz\")\n",
    "i = 1\n",
    "\n",
    "while i<=3 :\n",
    "   if(login_password == password):\n",
    "     print(\"Giriş yapıldı\")\n",
    "     break\n",
    "       \n",
    "   elif(login_password != password) :\n",
    "      print(\"Yanlış şifre girildi!\")\n",
    "      print(\"kalan hakkınız: \" , 3 - i)\n",
    " i +=1"
   ]
  }
 ],
 "metadata": {
  "kernelspec": {
   "display_name": "Python 3 (ipykernel)",
   "language": "python",
   "name": "python3"
  },
  "language_info": {
   "codemirror_mode": {
    "name": "ipython",
    "version": 3
   },
   "file_extension": ".py",
   "mimetype": "text/x-python",
   "name": "python",
   "nbconvert_exporter": "python",
   "pygments_lexer": "ipython3",
   "version": "3.11.7"
  }
 },
 "nbformat": 4,
 "nbformat_minor": 5
}
