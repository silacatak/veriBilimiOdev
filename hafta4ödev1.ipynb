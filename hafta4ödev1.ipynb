{
 "cells": [
  {
   "cell_type": "code",
   "execution_count": 3,
   "id": "ee3ccdec-18bd-4d82-9d26-ea50aa0b48f1",
   "metadata": {},
   "outputs": [],
   "source": [
    "sozluk = {\n",
    "    \"Kategori\": [\"Giyim\",\"Giyim\", \"Ayakkabı\",\"Aksesuar\",\"Ayakkabı\",\"Giyim\",\"Aksesuar\",\"Aksesuar\",\"Ayakkabı\",\"Giyim\"],\n",
    "    \"Ürün\" : [\"Kazak\",\"T-shirt\",\"Sandalet\",\"Küpe\",\"Spor Ayakkabı\",\"Pantolon\",\"Kolye\",\"Yüzük\",\"Çizme\",\"Ceket\"],\n",
    "     \"Fiyat\" : [300,180,450,50,700,400,150,80,850,900]\n",
    "}"
   ]
  },
  {
   "cell_type": "markdown",
   "id": "7cc9b966-fb4e-4af9-bb6a-2f424eb51c1f",
   "metadata": {},
   "source": [
    "##### 1. Yukarıdaki sözlüğü bir DataFrame haline getirin."
   ]
  },
  {
   "cell_type": "code",
   "execution_count": 4,
   "id": "669a835a-16c0-45a3-8a82-12c27958a2b7",
   "metadata": {},
   "outputs": [],
   "source": [
    "import pandas as pd"
   ]
  },
  {
   "cell_type": "code",
   "execution_count": 5,
   "id": "9f64a1e0-0647-4de5-96ae-f1ba07715608",
   "metadata": {},
   "outputs": [],
   "source": [
    "dataFrm = pd.DataFrame(sozluk)"
   ]
  },
  {
   "cell_type": "code",
   "execution_count": 6,
   "id": "d16b07cf-75d3-47cd-8525-dd2575bc8ddf",
   "metadata": {},
   "outputs": [
    {
     "name": "stdout",
     "output_type": "stream",
     "text": [
      "   Kategori           Ürün  Fiyat\n",
      "0     Giyim          Kazak    300\n",
      "1     Giyim        T-shirt    180\n",
      "2  Ayakkabı       Sandalet    450\n",
      "3  Aksesuar           Küpe     50\n",
      "4  Ayakkabı  Spor Ayakkabı    700\n",
      "5     Giyim       Pantolon    400\n",
      "6  Aksesuar          Kolye    150\n",
      "7  Aksesuar          Yüzük     80\n",
      "8  Ayakkabı          Çizme    850\n",
      "9     Giyim          Ceket    900\n"
     ]
    }
   ],
   "source": [
    "print(dataFrm)"
   ]
  },
  {
   "cell_type": "code",
   "execution_count": 7,
   "id": "d98106fc-0e5c-451b-a865-0f787506a6cb",
   "metadata": {},
   "outputs": [
    {
     "data": {
      "text/html": [
       "<div>\n",
       "<style scoped>\n",
       "    .dataframe tbody tr th:only-of-type {\n",
       "        vertical-align: middle;\n",
       "    }\n",
       "\n",
       "    .dataframe tbody tr th {\n",
       "        vertical-align: top;\n",
       "    }\n",
       "\n",
       "    .dataframe thead th {\n",
       "        text-align: right;\n",
       "    }\n",
       "</style>\n",
       "<table border=\"1\" class=\"dataframe\">\n",
       "  <thead>\n",
       "    <tr style=\"text-align: right;\">\n",
       "      <th></th>\n",
       "      <th>Kategori</th>\n",
       "      <th>Ürün</th>\n",
       "      <th>Fiyat</th>\n",
       "    </tr>\n",
       "  </thead>\n",
       "  <tbody>\n",
       "    <tr>\n",
       "      <th>0</th>\n",
       "      <td>Giyim</td>\n",
       "      <td>Kazak</td>\n",
       "      <td>300</td>\n",
       "    </tr>\n",
       "    <tr>\n",
       "      <th>1</th>\n",
       "      <td>Giyim</td>\n",
       "      <td>T-shirt</td>\n",
       "      <td>180</td>\n",
       "    </tr>\n",
       "    <tr>\n",
       "      <th>2</th>\n",
       "      <td>Ayakkabı</td>\n",
       "      <td>Sandalet</td>\n",
       "      <td>450</td>\n",
       "    </tr>\n",
       "    <tr>\n",
       "      <th>3</th>\n",
       "      <td>Aksesuar</td>\n",
       "      <td>Küpe</td>\n",
       "      <td>50</td>\n",
       "    </tr>\n",
       "    <tr>\n",
       "      <th>4</th>\n",
       "      <td>Ayakkabı</td>\n",
       "      <td>Spor Ayakkabı</td>\n",
       "      <td>700</td>\n",
       "    </tr>\n",
       "    <tr>\n",
       "      <th>5</th>\n",
       "      <td>Giyim</td>\n",
       "      <td>Pantolon</td>\n",
       "      <td>400</td>\n",
       "    </tr>\n",
       "    <tr>\n",
       "      <th>6</th>\n",
       "      <td>Aksesuar</td>\n",
       "      <td>Kolye</td>\n",
       "      <td>150</td>\n",
       "    </tr>\n",
       "    <tr>\n",
       "      <th>7</th>\n",
       "      <td>Aksesuar</td>\n",
       "      <td>Yüzük</td>\n",
       "      <td>80</td>\n",
       "    </tr>\n",
       "    <tr>\n",
       "      <th>8</th>\n",
       "      <td>Ayakkabı</td>\n",
       "      <td>Çizme</td>\n",
       "      <td>850</td>\n",
       "    </tr>\n",
       "    <tr>\n",
       "      <th>9</th>\n",
       "      <td>Giyim</td>\n",
       "      <td>Ceket</td>\n",
       "      <td>900</td>\n",
       "    </tr>\n",
       "  </tbody>\n",
       "</table>\n",
       "</div>"
      ],
      "text/plain": [
       "   Kategori           Ürün  Fiyat\n",
       "0     Giyim          Kazak    300\n",
       "1     Giyim        T-shirt    180\n",
       "2  Ayakkabı       Sandalet    450\n",
       "3  Aksesuar           Küpe     50\n",
       "4  Ayakkabı  Spor Ayakkabı    700\n",
       "5     Giyim       Pantolon    400\n",
       "6  Aksesuar          Kolye    150\n",
       "7  Aksesuar          Yüzük     80\n",
       "8  Ayakkabı          Çizme    850\n",
       "9     Giyim          Ceket    900"
      ]
     },
     "execution_count": 7,
     "metadata": {},
     "output_type": "execute_result"
    }
   ],
   "source": [
    "df = pd.DataFrame(dataFrm)\n",
    "df"
   ]
  },
  {
   "cell_type": "markdown",
   "id": "753c1437-a8c1-434c-932f-ce1cd2bc54cb",
   "metadata": {},
   "source": [
    "##### 2. Aşağıdaki işlemleri dataframe üzerinde uygulayalım.\r\n",
    "- 2.indexde bulunan kategoriyi bulalım (Sadece kategori bilgisi) \r\n",
    "- 2.indexde bulunan ürünü bulalım (Sadece ürün bilgisi)\r\n",
    "- 4.indexden 9.indexe kadar olan verileri bulalım (Kategori,ürün,fiyat bilgisi beraber)\r\n",
    "- 1.indexden 6.indexe kadar olan ürünleri bulalım (Sadece ürün bilgisi)"
   ]
  },
  {
   "cell_type": "code",
   "execution_count": 16,
   "id": "6cbb2bf7-e105-4fe8-800c-6989c9a5c0b1",
   "metadata": {},
   "outputs": [
    {
     "data": {
      "text/plain": [
       "2    Ayakkabı\n",
       "Name: Kategori, dtype: object"
      ]
     },
     "execution_count": 16,
     "metadata": {},
     "output_type": "execute_result"
    }
   ],
   "source": [
    "dataFrm[2:3][\"Kategori\"]  # başlangıç olan 2 satır bilgisi ister ikinci olan 3 ise sütün bilgisi verir"
   ]
  },
  {
   "cell_type": "code",
   "execution_count": 17,
   "id": "9c3aec23-2c47-4247-8fd0-258780c5be2e",
   "metadata": {},
   "outputs": [
    {
     "data": {
      "text/plain": [
       "2    Sandalet\n",
       "Name: Ürün, dtype: object"
      ]
     },
     "execution_count": 17,
     "metadata": {},
     "output_type": "execute_result"
    }
   ],
   "source": [
    "dataFrm[2:3][\"Ürün\"]"
   ]
  },
  {
   "cell_type": "code",
   "execution_count": 18,
   "id": "eb672e8d-d7d2-4279-befd-931f21ff16a7",
   "metadata": {},
   "outputs": [
    {
     "data": {
      "text/html": [
       "<div>\n",
       "<style scoped>\n",
       "    .dataframe tbody tr th:only-of-type {\n",
       "        vertical-align: middle;\n",
       "    }\n",
       "\n",
       "    .dataframe tbody tr th {\n",
       "        vertical-align: top;\n",
       "    }\n",
       "\n",
       "    .dataframe thead th {\n",
       "        text-align: right;\n",
       "    }\n",
       "</style>\n",
       "<table border=\"1\" class=\"dataframe\">\n",
       "  <thead>\n",
       "    <tr style=\"text-align: right;\">\n",
       "      <th></th>\n",
       "      <th>Kategori</th>\n",
       "      <th>Ürün</th>\n",
       "      <th>Fiyat</th>\n",
       "    </tr>\n",
       "  </thead>\n",
       "  <tbody>\n",
       "    <tr>\n",
       "      <th>4</th>\n",
       "      <td>Ayakkabı</td>\n",
       "      <td>Spor Ayakkabı</td>\n",
       "      <td>700</td>\n",
       "    </tr>\n",
       "    <tr>\n",
       "      <th>5</th>\n",
       "      <td>Giyim</td>\n",
       "      <td>Pantolon</td>\n",
       "      <td>400</td>\n",
       "    </tr>\n",
       "    <tr>\n",
       "      <th>6</th>\n",
       "      <td>Aksesuar</td>\n",
       "      <td>Kolye</td>\n",
       "      <td>150</td>\n",
       "    </tr>\n",
       "    <tr>\n",
       "      <th>7</th>\n",
       "      <td>Aksesuar</td>\n",
       "      <td>Yüzük</td>\n",
       "      <td>80</td>\n",
       "    </tr>\n",
       "    <tr>\n",
       "      <th>8</th>\n",
       "      <td>Ayakkabı</td>\n",
       "      <td>Çizme</td>\n",
       "      <td>850</td>\n",
       "    </tr>\n",
       "    <tr>\n",
       "      <th>9</th>\n",
       "      <td>Giyim</td>\n",
       "      <td>Ceket</td>\n",
       "      <td>900</td>\n",
       "    </tr>\n",
       "  </tbody>\n",
       "</table>\n",
       "</div>"
      ],
      "text/plain": [
       "   Kategori           Ürün  Fiyat\n",
       "4  Ayakkabı  Spor Ayakkabı    700\n",
       "5     Giyim       Pantolon    400\n",
       "6  Aksesuar          Kolye    150\n",
       "7  Aksesuar          Yüzük     80\n",
       "8  Ayakkabı          Çizme    850\n",
       "9     Giyim          Ceket    900"
      ]
     },
     "execution_count": 18,
     "metadata": {},
     "output_type": "execute_result"
    }
   ],
   "source": [
    "dataFrm[4:]"
   ]
  },
  {
   "cell_type": "markdown",
   "id": "14969117-2daf-4e47-85ba-523cd0d33367",
   "metadata": {},
   "source": [
    "dataFrm[1:7][\"Ürün\"]"
   ]
  },
  {
   "cell_type": "markdown",
   "id": "58ccf30c-997a-4435-957f-926800ff5d29",
   "metadata": {},
   "source": [
    "##### 3. Aşağıdaki işlemleri dataframe üzerinde uygulayalım.\r\n",
    "- Giyim kategorisinde bulunan ürünleri gösterin\r\n",
    "- Ayakkabı kategorisinde bulunan ürünleri gösterin\r\n",
    "- Aksesuar kategorisinde bulunan ürünleri gösterin"
   ]
  },
  {
   "cell_type": "code",
   "execution_count": 24,
   "id": "835132a1-7ace-48cd-8430-9409207192c6",
   "metadata": {},
   "outputs": [
    {
     "name": "stdout",
     "output_type": "stream",
     "text": [
      "0       Kazak\n",
      "1     T-shirt\n",
      "5    Pantolon\n",
      "9       Ceket\n",
      "Name: Ürün, dtype: object\n"
     ]
    }
   ],
   "source": [
    "giyim = df[df[\"Kategori\"] == \"Giyim\"][\"Ürün\"]\n",
    "print(giyim)"
   ]
  },
  {
   "cell_type": "code",
   "execution_count": 25,
   "id": "668f7f2a-53e5-4110-bf23-e0ce7fed75ab",
   "metadata": {},
   "outputs": [
    {
     "name": "stdout",
     "output_type": "stream",
     "text": [
      "2         Sandalet\n",
      "4    Spor Ayakkabı\n",
      "8            Çizme\n",
      "Name: Ürün, dtype: object\n"
     ]
    }
   ],
   "source": [
    "ayakkbi = df[df[\"Kategori\"] == \"Ayakkabı\"][\"Ürün\"]\n",
    "print(ayakkbi)"
   ]
  },
  {
   "cell_type": "code",
   "execution_count": 26,
   "id": "c873a64b-8dea-4712-9156-8596be764fe3",
   "metadata": {},
   "outputs": [
    {
     "name": "stdout",
     "output_type": "stream",
     "text": [
      "3     Küpe\n",
      "6    Kolye\n",
      "7    Yüzük\n",
      "Name: Ürün, dtype: object\n"
     ]
    }
   ],
   "source": [
    "aksesuar = df[df[\"Kategori\"] == \"Aksesuar\"][\"Ürün\"]\n",
    "print(aksesuar)"
   ]
  },
  {
   "cell_type": "markdown",
   "id": "487e0a86-3ba3-4314-ba94-055de7134021",
   "metadata": {},
   "source": [
    "##### 4 Aşağıdaki işlemleri dataframe üzerinde uygulayalım.\r\n",
    "- Giyim kategorisinde fiyatı 300'den fazla olan ürünleri gösterin\r\n",
    "- Ayakkabı kategorisinde fiyatı 600'den az olan ürünleri gösterin\r\n",
    "- Aksesuar kategorisinde fiyatı 100'den fazla olan aksesuarı gösterin"
   ]
  },
  {
   "cell_type": "code",
   "execution_count": 30,
   "id": "48eaa1e8-15c8-464c-9e04-cb1e3f15cb8c",
   "metadata": {},
   "outputs": [
    {
     "data": {
      "text/plain": [
       "5    Pantolon\n",
       "9       Ceket\n",
       "Name: Ürün, dtype: object"
      ]
     },
     "execution_count": 30,
     "metadata": {},
     "output_type": "execute_result"
    }
   ],
   "source": [
    "kosul1 = df[(df[\"Kategori\"] == \"Giyim\") & (df[\"Fiyat\"] > 300)][\"Ürün\"]\n",
    "kosul1"
   ]
  },
  {
   "cell_type": "code",
   "execution_count": 31,
   "id": "42721107-6556-45e2-966b-91874dc03977",
   "metadata": {},
   "outputs": [
    {
     "data": {
      "text/plain": [
       "2    Sandalet\n",
       "Name: Ürün, dtype: object"
      ]
     },
     "execution_count": 31,
     "metadata": {},
     "output_type": "execute_result"
    }
   ],
   "source": [
    "kosul2 = df[(df[\"Kategori\"] == \"Ayakkabı\") & (df[\"Fiyat\"] < 600)][\"Ürün\"]\n",
    "kosul2"
   ]
  },
  {
   "cell_type": "code",
   "execution_count": 32,
   "id": "e3e381b6-6ef0-4a03-857e-8473fae2c020",
   "metadata": {},
   "outputs": [
    {
     "data": {
      "text/plain": [
       "6    Kolye\n",
       "Name: Ürün, dtype: object"
      ]
     },
     "execution_count": 32,
     "metadata": {},
     "output_type": "execute_result"
    }
   ],
   "source": [
    "kosul3 = df[(df[\"Kategori\"] == \"Aksesuar\") & (df[\"Fiyat\"] > 100)][\"Ürün\"]\n",
    "kosul3"
   ]
  },
  {
   "cell_type": "markdown",
   "id": "32995537-df5d-4553-9c93-fd37c39db418",
   "metadata": {},
   "source": [
    "##### Pandasta en çok kullanılan veri yapılar Series ve DataFrame yapılarıdır.Series kullanımı:"
   ]
  },
  {
   "cell_type": "code",
   "execution_count": 36,
   "id": "5558c1a8-596b-4151-8f6b-ec73ab4e70ed",
   "metadata": {},
   "outputs": [
    {
     "data": {
      "text/plain": [
       "0    10\n",
       "1    20\n",
       "2    30\n",
       "3    40\n",
       "4    50\n",
       "dtype: int64"
      ]
     },
     "execution_count": 36,
     "metadata": {},
     "output_type": "execute_result"
    }
   ],
   "source": [
    "seri = pd.Series([10,20,30,40,50])\n",
    "seri"
   ]
  },
  {
   "cell_type": "code",
   "execution_count": 37,
   "id": "65b4e23b-90a5-494e-b4f3-5916097fff6c",
   "metadata": {},
   "outputs": [
    {
     "data": {
      "text/plain": [
       "pandas.core.series.Series"
      ]
     },
     "execution_count": 37,
     "metadata": {},
     "output_type": "execute_result"
    }
   ],
   "source": [
    "type(seri)"
   ]
  },
  {
   "cell_type": "code",
   "execution_count": 38,
   "id": "8a449601-b78e-42cd-96ef-424cde55f4b5",
   "metadata": {},
   "outputs": [
    {
     "data": {
      "text/plain": [
       "RangeIndex(start=0, stop=5, step=1)"
      ]
     },
     "execution_count": 38,
     "metadata": {},
     "output_type": "execute_result"
    }
   ],
   "source": [
    "seri.index"
   ]
  },
  {
   "cell_type": "code",
   "execution_count": 39,
   "id": "54563f04-d806-453e-af10-807f231ca194",
   "metadata": {},
   "outputs": [
    {
     "data": {
      "text/plain": [
       "5"
      ]
     },
     "execution_count": 39,
     "metadata": {},
     "output_type": "execute_result"
    }
   ],
   "source": [
    "seri.size"
   ]
  },
  {
   "cell_type": "code",
   "execution_count": 41,
   "id": "83fa6426-31aa-4095-be4c-4abb4accf9ce",
   "metadata": {},
   "outputs": [
    {
     "data": {
      "text/plain": [
       "1"
      ]
     },
     "execution_count": 41,
     "metadata": {},
     "output_type": "execute_result"
    }
   ],
   "source": [
    "seri.ndim"
   ]
  },
  {
   "cell_type": "code",
   "execution_count": 42,
   "id": "d422bb02-8af6-4b6f-b790-a31a2df2f3f4",
   "metadata": {},
   "outputs": [
    {
     "data": {
      "text/plain": [
       "array([10, 20, 30, 40, 50], dtype=int64)"
      ]
     },
     "execution_count": 42,
     "metadata": {},
     "output_type": "execute_result"
    }
   ],
   "source": [
    "seri.values"
   ]
  },
  {
   "cell_type": "code",
   "execution_count": 43,
   "id": "8b459224-573b-4258-9f4a-17965f4f33ba",
   "metadata": {},
   "outputs": [
    {
     "data": {
      "text/plain": [
       "0    10\n",
       "1    20\n",
       "2    30\n",
       "dtype: int64"
      ]
     },
     "execution_count": 43,
     "metadata": {},
     "output_type": "execute_result"
    }
   ],
   "source": [
    "seri.head(3)"
   ]
  },
  {
   "cell_type": "code",
   "execution_count": 44,
   "id": "ae293e4b-9298-4970-99c1-a95b8b6a613a",
   "metadata": {},
   "outputs": [
    {
     "data": {
      "text/plain": [
       "3    40\n",
       "4    50\n",
       "dtype: int64"
      ]
     },
     "execution_count": 44,
     "metadata": {},
     "output_type": "execute_result"
    }
   ],
   "source": [
    "seri.tail(2)"
   ]
  },
  {
   "cell_type": "code",
   "execution_count": 45,
   "id": "03436cfc-39b2-4643-bbce-08105255846d",
   "metadata": {},
   "outputs": [
    {
     "data": {
      "text/plain": [
       "0    10\n",
       "1    20\n",
       "dtype: int64"
      ]
     },
     "execution_count": 45,
     "metadata": {},
     "output_type": "execute_result"
    }
   ],
   "source": [
    "seri[0:2]"
   ]
  },
  {
   "cell_type": "code",
   "execution_count": 48,
   "id": "a1ce6f15-a650-4022-9722-bb49508c5715",
   "metadata": {},
   "outputs": [
    {
     "data": {
      "text/plain": [
       "2     12\n",
       "4     13\n",
       "6     14\n",
       "8     15\n",
       "10    16\n",
       "dtype: int64"
      ]
     },
     "execution_count": 48,
     "metadata": {},
     "output_type": "execute_result"
    }
   ],
   "source": [
    "seri2 = pd.Series([12,13,14,15,16] , index =[2,4,6,8,10])\n",
    "seri2"
   ]
  },
  {
   "cell_type": "code",
   "execution_count": 50,
   "id": "22f205b0-4a39-4126-8451-76dc64d68cac",
   "metadata": {},
   "outputs": [
    {
     "data": {
      "text/plain": [
       "2    12\n",
       "4    13\n",
       "6    14\n",
       "dtype: int64"
      ]
     },
     "execution_count": 50,
     "metadata": {},
     "output_type": "execute_result"
    }
   ],
   "source": [
    "seri2[0:3]"
   ]
  },
  {
   "cell_type": "code",
   "execution_count": 51,
   "id": "f006046a-a5d9-49da-b015-41a5009a3440",
   "metadata": {},
   "outputs": [
    {
     "data": {
      "text/plain": [
       "6     14\n",
       "8     15\n",
       "10    16\n",
       "dtype: int64"
      ]
     },
     "execution_count": 51,
     "metadata": {},
     "output_type": "execute_result"
    }
   ],
   "source": [
    "seri2[2:8]"
   ]
  },
  {
   "cell_type": "code",
   "execution_count": 53,
   "id": "03b7e9e4-cde9-4387-955c-7a8223090a88",
   "metadata": {},
   "outputs": [
    {
     "data": {
      "text/plain": [
       "array([13,  1, 39,  7, 48,  3])"
      ]
     },
     "execution_count": 53,
     "metadata": {},
     "output_type": "execute_result"
    }
   ],
   "source": [
    "import numpy as np\n",
    "\n",
    "dizi = np.random.randint(50,size=6)\n",
    "dizi"
   ]
  },
  {
   "cell_type": "code",
   "execution_count": 55,
   "id": "fe365945-3c5c-4cb3-9d7c-325b8f5251a7",
   "metadata": {},
   "outputs": [
    {
     "data": {
      "text/plain": [
       "0    13\n",
       "1     1\n",
       "2    39\n",
       "3     7\n",
       "4    48\n",
       "5     3\n",
       "dtype: int32"
      ]
     },
     "execution_count": 55,
     "metadata": {},
     "output_type": "execute_result"
    }
   ],
   "source": [
    "seri2 = pd.Series(dizi)\n",
    "seri2"
   ]
  }
 ],
 "metadata": {
  "kernelspec": {
   "display_name": "Python 3 (ipykernel)",
   "language": "python",
   "name": "python3"
  },
  "language_info": {
   "codemirror_mode": {
    "name": "ipython",
    "version": 3
   },
   "file_extension": ".py",
   "mimetype": "text/x-python",
   "name": "python",
   "nbconvert_exporter": "python",
   "pygments_lexer": "ipython3",
   "version": "3.11.7"
  }
 },
 "nbformat": 4,
 "nbformat_minor": 5
}
